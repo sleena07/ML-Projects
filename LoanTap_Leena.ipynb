{
 "cells": [
  {
   "cell_type": "markdown",
   "metadata": {},
   "source": [
    "LoanTap is an online platform committed to delivering customized loan products to millennials. They innovate in an otherwise dull loan segment, to deliver instant, flexible loans on consumer friendly terms to salaried professionals and businessmen.\n",
    "\n",
    "The data science team at LoanTap is building an underwriting layer to determine the creditworthiness of MSMEs as well as individuals.\n",
    "\n",
    "LoanTap deploys formal credit to salaried individuals and businesses 4 main financial instruments:\n",
    "\n",
    "Personal Loan\n",
    "EMI Free Loan\n",
    "Personal Overdraft\n",
    "Advance Salary Loan\n",
    "This case study will focus on the underwriting process behind Personal Loan only\n",
    "\n",
    "Problem Statement:\n",
    "\n",
    "Given a set of attributes for an Individual, determine if a credit line should be extended to them. If so, what should the repayment terms be in business recommendations?\n",
    "\n",
    "Data dictionary:\n",
    "\n",
    "loan_amnt : The listed amount of the loan applied for by the borrower. If at some point in time, the credit department reduces the loan amount, then it will be reflected in this value.\n",
    "\n",
    "term : The number of payments on the loan. Values are in months and can be either 36 or 60.\n",
    "\n",
    "int_rate : Interest Rate on the loan\n",
    "\n",
    "installment : The monthly payment owed by the borrower if the loan originates.\n",
    "\n",
    "grade : LoanTap assigned loan grade\n",
    "\n",
    "sub_grade : LoanTap assigned loan subgrade\n",
    "\n",
    "emp_title :The job title supplied by the Borrower when applying for the loan.*\n",
    "\n",
    "emp_length : Employment length in years. Possible values are between 0 and 10 where 0 means less than one year and 10 means ten or more years.\n",
    "\n",
    "home_ownership : The home ownership status provided by the borrower during registration or obtained from the credit report.\n",
    "\n",
    "annual_inc : The self-reported annual income provided by the borrower during registration.\n",
    "\n",
    "verification_status : Indicates if income was verified by LoanTap, not verified, or if the income source was verified\n",
    "\n",
    "issue_d : The month which the loan was funded\n",
    "\n",
    "loan_status : Current status of the loan - Target Variable\n",
    "\n",
    "purpose : A category provided by the borrower for the loan request.\n",
    "\n",
    "title : The loan title provided by the borrower\n",
    "\n",
    "dti : A ratio calculated using the borrower’s total monthly debt payments on the total debt obligations, excluding mortgage and the requested LoanTap loan, divided by the borrower’s self-reported monthly income.\n",
    "\n",
    "earliest_cr_line :The month the borrower's earliest reported credit line was opened\n",
    "\n",
    "open_acc : The number of open credit lines in the borrower's credit file.\n",
    "\n",
    "pub_rec : Number of derogatory public records\n",
    "\n",
    "revol_bal : Total credit revolving balance\n",
    "\n",
    "revol_util : Revolving line utilization rate, or the amount of credit the borrower is using relative to all available revolving credit.\n",
    "\n",
    "total_acc : The total number of credit lines currently in the borrower's credit file\n",
    "initial_list_status : The initial listing status of the loan. Possible values are – W, F\n",
    "\n",
    "application_type : Indicates whether the loan is an individual application or a joint application with two co-borrowers\n",
    "\n",
    "mort_acc : Number of mortgage accounts.\n",
    "\n",
    "pub_rec_bankruptcies : Number of public record bankruptcies\n",
    "\n",
    "Address: Address of the individual\n",
    "\n",
    "\n",
    "Concepts Used :\n",
    "Exploratory Data Analysis\n",
    "Feature Engineering\n",
    "Logistic Regression\n",
    "Precision Vs Recall Tradeoff"
   ]
  },
  {
   "cell_type": "markdown",
   "metadata": {},
   "source": []
  },
  {
   "cell_type": "code",
   "execution_count": 1001,
   "metadata": {},
   "outputs": [
    {
     "data": {
      "text/html": [
       "<div>\n",
       "<style scoped>\n",
       "    .dataframe tbody tr th:only-of-type {\n",
       "        vertical-align: middle;\n",
       "    }\n",
       "\n",
       "    .dataframe tbody tr th {\n",
       "        vertical-align: top;\n",
       "    }\n",
       "\n",
       "    .dataframe thead th {\n",
       "        text-align: right;\n",
       "    }\n",
       "</style>\n",
       "<table border=\"1\" class=\"dataframe\">\n",
       "  <thead>\n",
       "    <tr style=\"text-align: right;\">\n",
       "      <th></th>\n",
       "      <th>loan_amnt</th>\n",
       "      <th>term</th>\n",
       "      <th>int_rate</th>\n",
       "      <th>installment</th>\n",
       "      <th>grade</th>\n",
       "      <th>sub_grade</th>\n",
       "      <th>emp_title</th>\n",
       "      <th>emp_length</th>\n",
       "      <th>home_ownership</th>\n",
       "      <th>annual_inc</th>\n",
       "      <th>verification_status</th>\n",
       "      <th>issue_d</th>\n",
       "      <th>loan_status</th>\n",
       "      <th>purpose</th>\n",
       "      <th>title</th>\n",
       "      <th>dti</th>\n",
       "      <th>earliest_cr_line</th>\n",
       "      <th>open_acc</th>\n",
       "      <th>pub_rec</th>\n",
       "      <th>revol_bal</th>\n",
       "      <th>revol_util</th>\n",
       "      <th>total_acc</th>\n",
       "      <th>initial_list_status</th>\n",
       "      <th>application_type</th>\n",
       "      <th>mort_acc</th>\n",
       "      <th>pub_rec_bankruptcies</th>\n",
       "      <th>address</th>\n",
       "    </tr>\n",
       "  </thead>\n",
       "  <tbody>\n",
       "    <tr>\n",
       "      <th>0</th>\n",
       "      <td>10000.0</td>\n",
       "      <td>36 months</td>\n",
       "      <td>11.44</td>\n",
       "      <td>329.48</td>\n",
       "      <td>B</td>\n",
       "      <td>B4</td>\n",
       "      <td>Marketing</td>\n",
       "      <td>10+ years</td>\n",
       "      <td>RENT</td>\n",
       "      <td>117000.0</td>\n",
       "      <td>Not Verified</td>\n",
       "      <td>Jan-2015</td>\n",
       "      <td>Fully Paid</td>\n",
       "      <td>vacation</td>\n",
       "      <td>Vacation</td>\n",
       "      <td>26.24</td>\n",
       "      <td>Jun-1990</td>\n",
       "      <td>16.0</td>\n",
       "      <td>0.0</td>\n",
       "      <td>36369.0</td>\n",
       "      <td>41.8</td>\n",
       "      <td>25.0</td>\n",
       "      <td>w</td>\n",
       "      <td>INDIVIDUAL</td>\n",
       "      <td>0.0</td>\n",
       "      <td>0.0</td>\n",
       "      <td>0174 Michelle Gateway\\r\\nMendozaberg, OK 22690</td>\n",
       "    </tr>\n",
       "    <tr>\n",
       "      <th>1</th>\n",
       "      <td>8000.0</td>\n",
       "      <td>36 months</td>\n",
       "      <td>11.99</td>\n",
       "      <td>265.68</td>\n",
       "      <td>B</td>\n",
       "      <td>B5</td>\n",
       "      <td>Credit analyst</td>\n",
       "      <td>4 years</td>\n",
       "      <td>MORTGAGE</td>\n",
       "      <td>65000.0</td>\n",
       "      <td>Not Verified</td>\n",
       "      <td>Jan-2015</td>\n",
       "      <td>Fully Paid</td>\n",
       "      <td>debt_consolidation</td>\n",
       "      <td>Debt consolidation</td>\n",
       "      <td>22.05</td>\n",
       "      <td>Jul-2004</td>\n",
       "      <td>17.0</td>\n",
       "      <td>0.0</td>\n",
       "      <td>20131.0</td>\n",
       "      <td>53.3</td>\n",
       "      <td>27.0</td>\n",
       "      <td>f</td>\n",
       "      <td>INDIVIDUAL</td>\n",
       "      <td>3.0</td>\n",
       "      <td>0.0</td>\n",
       "      <td>1076 Carney Fort Apt. 347\\r\\nLoganmouth, SD 05113</td>\n",
       "    </tr>\n",
       "    <tr>\n",
       "      <th>2</th>\n",
       "      <td>15600.0</td>\n",
       "      <td>36 months</td>\n",
       "      <td>10.49</td>\n",
       "      <td>506.97</td>\n",
       "      <td>B</td>\n",
       "      <td>B3</td>\n",
       "      <td>Statistician</td>\n",
       "      <td>&lt; 1 year</td>\n",
       "      <td>RENT</td>\n",
       "      <td>43057.0</td>\n",
       "      <td>Source Verified</td>\n",
       "      <td>Jan-2015</td>\n",
       "      <td>Fully Paid</td>\n",
       "      <td>credit_card</td>\n",
       "      <td>Credit card refinancing</td>\n",
       "      <td>12.79</td>\n",
       "      <td>Aug-2007</td>\n",
       "      <td>13.0</td>\n",
       "      <td>0.0</td>\n",
       "      <td>11987.0</td>\n",
       "      <td>92.2</td>\n",
       "      <td>26.0</td>\n",
       "      <td>f</td>\n",
       "      <td>INDIVIDUAL</td>\n",
       "      <td>0.0</td>\n",
       "      <td>0.0</td>\n",
       "      <td>87025 Mark Dale Apt. 269\\r\\nNew Sabrina, WV 05113</td>\n",
       "    </tr>\n",
       "    <tr>\n",
       "      <th>3</th>\n",
       "      <td>7200.0</td>\n",
       "      <td>36 months</td>\n",
       "      <td>6.49</td>\n",
       "      <td>220.65</td>\n",
       "      <td>A</td>\n",
       "      <td>A2</td>\n",
       "      <td>Client Advocate</td>\n",
       "      <td>6 years</td>\n",
       "      <td>RENT</td>\n",
       "      <td>54000.0</td>\n",
       "      <td>Not Verified</td>\n",
       "      <td>Nov-2014</td>\n",
       "      <td>Fully Paid</td>\n",
       "      <td>credit_card</td>\n",
       "      <td>Credit card refinancing</td>\n",
       "      <td>2.60</td>\n",
       "      <td>Sep-2006</td>\n",
       "      <td>6.0</td>\n",
       "      <td>0.0</td>\n",
       "      <td>5472.0</td>\n",
       "      <td>21.5</td>\n",
       "      <td>13.0</td>\n",
       "      <td>f</td>\n",
       "      <td>INDIVIDUAL</td>\n",
       "      <td>0.0</td>\n",
       "      <td>0.0</td>\n",
       "      <td>823 Reid Ford\\r\\nDelacruzside, MA 00813</td>\n",
       "    </tr>\n",
       "    <tr>\n",
       "      <th>4</th>\n",
       "      <td>24375.0</td>\n",
       "      <td>60 months</td>\n",
       "      <td>17.27</td>\n",
       "      <td>609.33</td>\n",
       "      <td>C</td>\n",
       "      <td>C5</td>\n",
       "      <td>Destiny Management Inc.</td>\n",
       "      <td>9 years</td>\n",
       "      <td>MORTGAGE</td>\n",
       "      <td>55000.0</td>\n",
       "      <td>Verified</td>\n",
       "      <td>Apr-2013</td>\n",
       "      <td>Charged Off</td>\n",
       "      <td>credit_card</td>\n",
       "      <td>Credit Card Refinance</td>\n",
       "      <td>33.95</td>\n",
       "      <td>Mar-1999</td>\n",
       "      <td>13.0</td>\n",
       "      <td>0.0</td>\n",
       "      <td>24584.0</td>\n",
       "      <td>69.8</td>\n",
       "      <td>43.0</td>\n",
       "      <td>f</td>\n",
       "      <td>INDIVIDUAL</td>\n",
       "      <td>1.0</td>\n",
       "      <td>0.0</td>\n",
       "      <td>679 Luna Roads\\r\\nGreggshire, VA 11650</td>\n",
       "    </tr>\n",
       "  </tbody>\n",
       "</table>\n",
       "</div>"
      ],
      "text/plain": [
       "   loan_amnt        term  int_rate  installment grade sub_grade  \\\n",
       "0    10000.0   36 months     11.44       329.48     B        B4   \n",
       "1     8000.0   36 months     11.99       265.68     B        B5   \n",
       "2    15600.0   36 months     10.49       506.97     B        B3   \n",
       "3     7200.0   36 months      6.49       220.65     A        A2   \n",
       "4    24375.0   60 months     17.27       609.33     C        C5   \n",
       "\n",
       "                 emp_title emp_length home_ownership  annual_inc  \\\n",
       "0                Marketing  10+ years           RENT    117000.0   \n",
       "1          Credit analyst     4 years       MORTGAGE     65000.0   \n",
       "2             Statistician   < 1 year           RENT     43057.0   \n",
       "3          Client Advocate    6 years           RENT     54000.0   \n",
       "4  Destiny Management Inc.    9 years       MORTGAGE     55000.0   \n",
       "\n",
       "  verification_status   issue_d  loan_status             purpose  \\\n",
       "0        Not Verified  Jan-2015   Fully Paid            vacation   \n",
       "1        Not Verified  Jan-2015   Fully Paid  debt_consolidation   \n",
       "2     Source Verified  Jan-2015   Fully Paid         credit_card   \n",
       "3        Not Verified  Nov-2014   Fully Paid         credit_card   \n",
       "4            Verified  Apr-2013  Charged Off         credit_card   \n",
       "\n",
       "                     title    dti earliest_cr_line  open_acc  pub_rec  \\\n",
       "0                 Vacation  26.24         Jun-1990      16.0      0.0   \n",
       "1       Debt consolidation  22.05         Jul-2004      17.0      0.0   \n",
       "2  Credit card refinancing  12.79         Aug-2007      13.0      0.0   \n",
       "3  Credit card refinancing   2.60         Sep-2006       6.0      0.0   \n",
       "4    Credit Card Refinance  33.95         Mar-1999      13.0      0.0   \n",
       "\n",
       "   revol_bal  revol_util  total_acc initial_list_status application_type  \\\n",
       "0    36369.0        41.8       25.0                   w       INDIVIDUAL   \n",
       "1    20131.0        53.3       27.0                   f       INDIVIDUAL   \n",
       "2    11987.0        92.2       26.0                   f       INDIVIDUAL   \n",
       "3     5472.0        21.5       13.0                   f       INDIVIDUAL   \n",
       "4    24584.0        69.8       43.0                   f       INDIVIDUAL   \n",
       "\n",
       "   mort_acc  pub_rec_bankruptcies  \\\n",
       "0       0.0                   0.0   \n",
       "1       3.0                   0.0   \n",
       "2       0.0                   0.0   \n",
       "3       0.0                   0.0   \n",
       "4       1.0                   0.0   \n",
       "\n",
       "                                             address  \n",
       "0     0174 Michelle Gateway\\r\\nMendozaberg, OK 22690  \n",
       "1  1076 Carney Fort Apt. 347\\r\\nLoganmouth, SD 05113  \n",
       "2  87025 Mark Dale Apt. 269\\r\\nNew Sabrina, WV 05113  \n",
       "3            823 Reid Ford\\r\\nDelacruzside, MA 00813  \n",
       "4             679 Luna Roads\\r\\nGreggshire, VA 11650  "
      ]
     },
     "execution_count": 1001,
     "metadata": {},
     "output_type": "execute_result"
    }
   ],
   "source": [
    "import pandas as pd\n",
    "import numpy as np\n",
    "import seaborn as sns\n",
    "from scipy import stats\n",
    "import matplotlib.pyplot as plt\n",
    "from sklearn.linear_model import LogisticRegression\n",
    "from sklearn import metrics\n",
    "from sklearn.metrics import confusion_matrix\n",
    "from sklearn.metrics import classification_report\n",
    "from sklearn.metrics import roc_auc_score\n",
    "from sklearn.metrics import roc_curve\n",
    "from sklearn.metrics import precision_recall_curve,auc\n",
    "from sklearn.model_selection import train_test_split, KFold, cross_val_score\n",
    "from sklearn.preprocessing import MinMaxScaler,StandardScaler\n",
    "from sklearn.metrics import (\n",
    "    accuracy_score, confusion_matrix, classification_report,\n",
    "    roc_auc_score, roc_curve, auc\n",
    "    # plot_confusion_matrix, plot_roc_curve\n",
    ")\n",
    "from statsmodels.stats.outliers_influence import variance_inflation_factor\n",
    "from imblearn.over_sampling import SMOTE\n",
    "\n",
    "\n",
    "df=pd.read_csv('logistic_regression.csv')\n",
    "pd.set_option('display.max_columns', None)\n",
    "df.head()"
   ]
  },
  {
   "cell_type": "code",
   "execution_count": 1002,
   "metadata": {},
   "outputs": [
    {
     "data": {
      "text/plain": [
       "loan_amnt               0.000000\n",
       "term                    0.000000\n",
       "int_rate                0.000000\n",
       "installment             0.000000\n",
       "grade                   0.000000\n",
       "sub_grade               0.000000\n",
       "emp_title               5.789208\n",
       "emp_length              4.621115\n",
       "home_ownership          0.000000\n",
       "annual_inc              0.000000\n",
       "verification_status     0.000000\n",
       "issue_d                 0.000000\n",
       "loan_status             0.000000\n",
       "purpose                 0.000000\n",
       "title                   0.443401\n",
       "dti                     0.000000\n",
       "earliest_cr_line        0.000000\n",
       "open_acc                0.000000\n",
       "pub_rec                 0.000000\n",
       "revol_bal               0.000000\n",
       "revol_util              0.069692\n",
       "total_acc               0.000000\n",
       "initial_list_status     0.000000\n",
       "application_type        0.000000\n",
       "mort_acc                9.543469\n",
       "pub_rec_bankruptcies    0.135091\n",
       "address                 0.000000\n",
       "dtype: float64"
      ]
     },
     "execution_count": 1002,
     "metadata": {},
     "output_type": "execute_result"
    }
   ],
   "source": [
    "#check nulls in the data\n",
    "df.isnull().sum()/df.shape[0]*100"
   ]
  },
  {
   "cell_type": "code",
   "execution_count": 1003,
   "metadata": {},
   "outputs": [
    {
     "data": {
      "text/plain": [
       "(396030, 27)"
      ]
     },
     "execution_count": 1003,
     "metadata": {},
     "output_type": "execute_result"
    }
   ],
   "source": [
    "df.shape"
   ]
  },
  {
   "cell_type": "code",
   "execution_count": 1004,
   "metadata": {},
   "outputs": [
    {
     "name": "stdout",
     "output_type": "stream",
     "text": [
      "loan_status\n",
      "Fully Paid     0.803871\n",
      "Charged Off    0.196129\n",
      "Name: proportion, dtype: float64\n"
     ]
    }
   ],
   "source": [
    "#checking the distirbution of loan status and replacing 'Fully Paid' with 1 and 'Charged Off' with 0\n",
    "print(df['loan_status'].value_counts(normalize=True,sort=True))\n",
    "\n"
   ]
  },
  {
   "cell_type": "markdown",
   "metadata": {},
   "source": [
    "~80% of total candidates has fully paid while ~20% have defaulted"
   ]
  },
  {
   "cell_type": "code",
   "execution_count": 1005,
   "metadata": {},
   "outputs": [
    {
     "name": "stdout",
     "output_type": "stream",
     "text": [
      "<class 'pandas.core.frame.DataFrame'>\n",
      "RangeIndex: 396030 entries, 0 to 396029\n",
      "Data columns (total 27 columns):\n",
      " #   Column                Non-Null Count   Dtype  \n",
      "---  ------                --------------   -----  \n",
      " 0   loan_amnt             396030 non-null  float64\n",
      " 1   term                  396030 non-null  object \n",
      " 2   int_rate              396030 non-null  float64\n",
      " 3   installment           396030 non-null  float64\n",
      " 4   grade                 396030 non-null  object \n",
      " 5   sub_grade             396030 non-null  object \n",
      " 6   emp_title             373103 non-null  object \n",
      " 7   emp_length            377729 non-null  object \n",
      " 8   home_ownership        396030 non-null  object \n",
      " 9   annual_inc            396030 non-null  float64\n",
      " 10  verification_status   396030 non-null  object \n",
      " 11  issue_d               396030 non-null  object \n",
      " 12  loan_status           396030 non-null  object \n",
      " 13  purpose               396030 non-null  object \n",
      " 14  title                 394274 non-null  object \n",
      " 15  dti                   396030 non-null  float64\n",
      " 16  earliest_cr_line      396030 non-null  object \n",
      " 17  open_acc              396030 non-null  float64\n",
      " 18  pub_rec               396030 non-null  float64\n",
      " 19  revol_bal             396030 non-null  float64\n",
      " 20  revol_util            395754 non-null  float64\n",
      " 21  total_acc             396030 non-null  float64\n",
      " 22  initial_list_status   396030 non-null  object \n",
      " 23  application_type      396030 non-null  object \n",
      " 24  mort_acc              358235 non-null  float64\n",
      " 25  pub_rec_bankruptcies  395495 non-null  float64\n",
      " 26  address               396030 non-null  object \n",
      "dtypes: float64(12), object(15)\n",
      "memory usage: 81.6+ MB\n"
     ]
    }
   ],
   "source": [
    "df.info()"
   ]
  },
  {
   "cell_type": "code",
   "execution_count": 1006,
   "metadata": {},
   "outputs": [
    {
     "data": {
      "text/html": [
       "<div>\n",
       "<style scoped>\n",
       "    .dataframe tbody tr th:only-of-type {\n",
       "        vertical-align: middle;\n",
       "    }\n",
       "\n",
       "    .dataframe tbody tr th {\n",
       "        vertical-align: top;\n",
       "    }\n",
       "\n",
       "    .dataframe thead th {\n",
       "        text-align: right;\n",
       "    }\n",
       "</style>\n",
       "<table border=\"1\" class=\"dataframe\">\n",
       "  <thead>\n",
       "    <tr style=\"text-align: right;\">\n",
       "      <th></th>\n",
       "      <th>loan_amnt</th>\n",
       "      <th>int_rate</th>\n",
       "      <th>installment</th>\n",
       "      <th>annual_inc</th>\n",
       "      <th>dti</th>\n",
       "      <th>open_acc</th>\n",
       "      <th>pub_rec</th>\n",
       "      <th>revol_bal</th>\n",
       "      <th>revol_util</th>\n",
       "      <th>total_acc</th>\n",
       "      <th>mort_acc</th>\n",
       "      <th>pub_rec_bankruptcies</th>\n",
       "    </tr>\n",
       "  </thead>\n",
       "  <tbody>\n",
       "    <tr>\n",
       "      <th>count</th>\n",
       "      <td>396030.000000</td>\n",
       "      <td>396030.000000</td>\n",
       "      <td>396030.000000</td>\n",
       "      <td>3.960300e+05</td>\n",
       "      <td>396030.000000</td>\n",
       "      <td>396030.000000</td>\n",
       "      <td>396030.000000</td>\n",
       "      <td>3.960300e+05</td>\n",
       "      <td>395754.000000</td>\n",
       "      <td>396030.000000</td>\n",
       "      <td>358235.000000</td>\n",
       "      <td>395495.000000</td>\n",
       "    </tr>\n",
       "    <tr>\n",
       "      <th>mean</th>\n",
       "      <td>14113.888089</td>\n",
       "      <td>13.639400</td>\n",
       "      <td>431.849698</td>\n",
       "      <td>7.420318e+04</td>\n",
       "      <td>17.379514</td>\n",
       "      <td>11.311153</td>\n",
       "      <td>0.178191</td>\n",
       "      <td>1.584454e+04</td>\n",
       "      <td>53.791749</td>\n",
       "      <td>25.414744</td>\n",
       "      <td>1.813991</td>\n",
       "      <td>0.121648</td>\n",
       "    </tr>\n",
       "    <tr>\n",
       "      <th>std</th>\n",
       "      <td>8357.441341</td>\n",
       "      <td>4.472157</td>\n",
       "      <td>250.727790</td>\n",
       "      <td>6.163762e+04</td>\n",
       "      <td>18.019092</td>\n",
       "      <td>5.137649</td>\n",
       "      <td>0.530671</td>\n",
       "      <td>2.059184e+04</td>\n",
       "      <td>24.452193</td>\n",
       "      <td>11.886991</td>\n",
       "      <td>2.147930</td>\n",
       "      <td>0.356174</td>\n",
       "    </tr>\n",
       "    <tr>\n",
       "      <th>min</th>\n",
       "      <td>500.000000</td>\n",
       "      <td>5.320000</td>\n",
       "      <td>16.080000</td>\n",
       "      <td>0.000000e+00</td>\n",
       "      <td>0.000000</td>\n",
       "      <td>0.000000</td>\n",
       "      <td>0.000000</td>\n",
       "      <td>0.000000e+00</td>\n",
       "      <td>0.000000</td>\n",
       "      <td>2.000000</td>\n",
       "      <td>0.000000</td>\n",
       "      <td>0.000000</td>\n",
       "    </tr>\n",
       "    <tr>\n",
       "      <th>25%</th>\n",
       "      <td>8000.000000</td>\n",
       "      <td>10.490000</td>\n",
       "      <td>250.330000</td>\n",
       "      <td>4.500000e+04</td>\n",
       "      <td>11.280000</td>\n",
       "      <td>8.000000</td>\n",
       "      <td>0.000000</td>\n",
       "      <td>6.025000e+03</td>\n",
       "      <td>35.800000</td>\n",
       "      <td>17.000000</td>\n",
       "      <td>0.000000</td>\n",
       "      <td>0.000000</td>\n",
       "    </tr>\n",
       "    <tr>\n",
       "      <th>50%</th>\n",
       "      <td>12000.000000</td>\n",
       "      <td>13.330000</td>\n",
       "      <td>375.430000</td>\n",
       "      <td>6.400000e+04</td>\n",
       "      <td>16.910000</td>\n",
       "      <td>10.000000</td>\n",
       "      <td>0.000000</td>\n",
       "      <td>1.118100e+04</td>\n",
       "      <td>54.800000</td>\n",
       "      <td>24.000000</td>\n",
       "      <td>1.000000</td>\n",
       "      <td>0.000000</td>\n",
       "    </tr>\n",
       "    <tr>\n",
       "      <th>75%</th>\n",
       "      <td>20000.000000</td>\n",
       "      <td>16.490000</td>\n",
       "      <td>567.300000</td>\n",
       "      <td>9.000000e+04</td>\n",
       "      <td>22.980000</td>\n",
       "      <td>14.000000</td>\n",
       "      <td>0.000000</td>\n",
       "      <td>1.962000e+04</td>\n",
       "      <td>72.900000</td>\n",
       "      <td>32.000000</td>\n",
       "      <td>3.000000</td>\n",
       "      <td>0.000000</td>\n",
       "    </tr>\n",
       "    <tr>\n",
       "      <th>max</th>\n",
       "      <td>40000.000000</td>\n",
       "      <td>30.990000</td>\n",
       "      <td>1533.810000</td>\n",
       "      <td>8.706582e+06</td>\n",
       "      <td>9999.000000</td>\n",
       "      <td>90.000000</td>\n",
       "      <td>86.000000</td>\n",
       "      <td>1.743266e+06</td>\n",
       "      <td>892.300000</td>\n",
       "      <td>151.000000</td>\n",
       "      <td>34.000000</td>\n",
       "      <td>8.000000</td>\n",
       "    </tr>\n",
       "  </tbody>\n",
       "</table>\n",
       "</div>"
      ],
      "text/plain": [
       "           loan_amnt       int_rate    installment    annual_inc  \\\n",
       "count  396030.000000  396030.000000  396030.000000  3.960300e+05   \n",
       "mean    14113.888089      13.639400     431.849698  7.420318e+04   \n",
       "std      8357.441341       4.472157     250.727790  6.163762e+04   \n",
       "min       500.000000       5.320000      16.080000  0.000000e+00   \n",
       "25%      8000.000000      10.490000     250.330000  4.500000e+04   \n",
       "50%     12000.000000      13.330000     375.430000  6.400000e+04   \n",
       "75%     20000.000000      16.490000     567.300000  9.000000e+04   \n",
       "max     40000.000000      30.990000    1533.810000  8.706582e+06   \n",
       "\n",
       "                 dti       open_acc        pub_rec     revol_bal  \\\n",
       "count  396030.000000  396030.000000  396030.000000  3.960300e+05   \n",
       "mean       17.379514      11.311153       0.178191  1.584454e+04   \n",
       "std        18.019092       5.137649       0.530671  2.059184e+04   \n",
       "min         0.000000       0.000000       0.000000  0.000000e+00   \n",
       "25%        11.280000       8.000000       0.000000  6.025000e+03   \n",
       "50%        16.910000      10.000000       0.000000  1.118100e+04   \n",
       "75%        22.980000      14.000000       0.000000  1.962000e+04   \n",
       "max      9999.000000      90.000000      86.000000  1.743266e+06   \n",
       "\n",
       "          revol_util      total_acc       mort_acc  pub_rec_bankruptcies  \n",
       "count  395754.000000  396030.000000  358235.000000         395495.000000  \n",
       "mean       53.791749      25.414744       1.813991              0.121648  \n",
       "std        24.452193      11.886991       2.147930              0.356174  \n",
       "min         0.000000       2.000000       0.000000              0.000000  \n",
       "25%        35.800000      17.000000       0.000000              0.000000  \n",
       "50%        54.800000      24.000000       1.000000              0.000000  \n",
       "75%        72.900000      32.000000       3.000000              0.000000  \n",
       "max       892.300000     151.000000      34.000000              8.000000  "
      ]
     },
     "execution_count": 1006,
     "metadata": {},
     "output_type": "execute_result"
    }
   ],
   "source": [
    "df.describe()"
   ]
  },
  {
   "cell_type": "markdown",
   "metadata": {},
   "source": [
    "#### Correlation Heatmap -\n",
    "\n",
    "A correlation heatmap is a heatmap that shows a 2D correlation matrix between two discrete dimensions, using colored cells to represent data from usually a monochromatic scale. The values of the first dimension appear as the rows of the table while of the second dimension as a column. The color of the cell is proportional to the number of measurements that match the dimensional value. This makes correlation heatmaps ideal for data analysis since it makes patterns easily readable and highlights the differences and variation in the same data. A correlation heatmap, like a regular heatmap, is assisted by a colorbar making data easily readable and comprehensible."
   ]
  },
  {
   "cell_type": "code",
   "execution_count": 1007,
   "metadata": {},
   "outputs": [
    {
     "data": {
      "image/png": "[encoded data removed]",
      "text/plain": [
       "<Figure size 1600x800 with 2 Axes>"
      ]
     },
     "metadata": {},
     "output_type": "display_data"
    }
   ],
   "source": [
    "num_columns=['loan_amnt', 'int_rate', 'installment', 'annual_inc', 'dti', 'open_acc',\n",
    "    'pub_rec', 'revol_bal', 'revol_util', 'total_acc', 'mort_acc',\n",
    "    'pub_rec_bankruptcies']\n",
    "\n",
    "plt.figure(figsize=(16, 8))\n",
    "sns.heatmap(df[num_columns].corr(), annot=True, cmap='viridis')\n",
    "plt.show()"
   ]
  },
  {
   "cell_type": "markdown",
   "metadata": {},
   "source": [
    "We notice almost perfect correlation between installment and loan amount, which is very obvious as well. Higher the loan amount, higher the installment. Also, there is a decent amount of correlation between pub_rec_backruptcies and pub_rec.\n",
    "Hence, we can drop one column for both the cases."
   ]
  },
  {
   "cell_type": "code",
   "execution_count": 1008,
   "metadata": {},
   "outputs": [],
   "source": [
    "df.drop(columns=['installment','pub_rec_bankruptcies'],inplace=True)"
   ]
  },
  {
   "cell_type": "code",
   "execution_count": 1009,
   "metadata": {},
   "outputs": [
    {
     "data": {
      "text/html": [
       "<div>\n",
       "<style scoped>\n",
       "    .dataframe tbody tr th:only-of-type {\n",
       "        vertical-align: middle;\n",
       "    }\n",
       "\n",
       "    .dataframe tbody tr th {\n",
       "        vertical-align: top;\n",
       "    }\n",
       "\n",
       "    .dataframe thead th {\n",
       "        text-align: right;\n",
       "    }\n",
       "</style>\n",
       "<table border=\"1\" class=\"dataframe\">\n",
       "  <thead>\n",
       "    <tr style=\"text-align: right;\">\n",
       "      <th></th>\n",
       "      <th>count</th>\n",
       "      <th>mean</th>\n",
       "      <th>std</th>\n",
       "      <th>min</th>\n",
       "      <th>25%</th>\n",
       "      <th>50%</th>\n",
       "      <th>75%</th>\n",
       "      <th>max</th>\n",
       "    </tr>\n",
       "    <tr>\n",
       "      <th>loan_status</th>\n",
       "      <th></th>\n",
       "      <th></th>\n",
       "      <th></th>\n",
       "      <th></th>\n",
       "      <th></th>\n",
       "      <th></th>\n",
       "      <th></th>\n",
       "      <th></th>\n",
       "    </tr>\n",
       "  </thead>\n",
       "  <tbody>\n",
       "    <tr>\n",
       "      <th>Charged Off</th>\n",
       "      <td>77673.0</td>\n",
       "      <td>15126.300967</td>\n",
       "      <td>8505.090557</td>\n",
       "      <td>1000.0</td>\n",
       "      <td>8525.0</td>\n",
       "      <td>14000.0</td>\n",
       "      <td>20000.0</td>\n",
       "      <td>40000.0</td>\n",
       "    </tr>\n",
       "    <tr>\n",
       "      <th>Fully Paid</th>\n",
       "      <td>318357.0</td>\n",
       "      <td>13866.878771</td>\n",
       "      <td>8302.319699</td>\n",
       "      <td>500.0</td>\n",
       "      <td>7500.0</td>\n",
       "      <td>12000.0</td>\n",
       "      <td>19225.0</td>\n",
       "      <td>40000.0</td>\n",
       "    </tr>\n",
       "  </tbody>\n",
       "</table>\n",
       "</div>"
      ],
      "text/plain": [
       "                count          mean          std     min     25%      50%  \\\n",
       "loan_status                                                                 \n",
       "Charged Off   77673.0  15126.300967  8505.090557  1000.0  8525.0  14000.0   \n",
       "Fully Paid   318357.0  13866.878771  8302.319699   500.0  7500.0  12000.0   \n",
       "\n",
       "                 75%      max  \n",
       "loan_status                    \n",
       "Charged Off  20000.0  40000.0  \n",
       "Fully Paid   19225.0  40000.0  "
      ]
     },
     "execution_count": 1009,
     "metadata": {},
     "output_type": "execute_result"
    }
   ],
   "source": [
    "#checking the stats for paid and defaulted loan in terms of the loan amount\n",
    "df.groupby('loan_status')['loan_amnt'].describe()"
   ]
  },
  {
   "cell_type": "code",
   "execution_count": 1010,
   "metadata": {},
   "outputs": [
    {
     "data": {
      "text/plain": [
       "home_ownership\n",
       "MORTGAGE    198348\n",
       "RENT        159790\n",
       "OWN          37746\n",
       "OTHER          112\n",
       "NONE            31\n",
       "ANY              3\n",
       "Name: count, dtype: int64"
      ]
     },
     "execution_count": 1010,
     "metadata": {},
     "output_type": "execute_result"
    }
   ],
   "source": [
    "df['home_ownership'].value_counts()\n",
    "#majority of people has home ownership as mortgage or rent\n"
   ]
  },
  {
   "cell_type": "code",
   "execution_count": 1011,
   "metadata": {},
   "outputs": [
    {
     "data": {
      "text/plain": [
       "home_ownership\n",
       "MORTGAGE    198348\n",
       "RENT        159790\n",
       "OWN          37746\n",
       "OTHER          146\n",
       "Name: count, dtype: int64"
      ]
     },
     "execution_count": 1011,
     "metadata": {},
     "output_type": "execute_result"
    }
   ],
   "source": [
    "#combining the minority classes into OTHER\n",
    "df.loc[(df['home_ownership']=='ANY') | (df['home_ownership']=='NONE'),'home_ownership']='OTHER'\n",
    "df['home_ownership'].value_counts()"
   ]
  },
  {
   "cell_type": "code",
   "execution_count": 1012,
   "metadata": {},
   "outputs": [
    {
     "name": "stderr",
     "output_type": "stream",
     "text": [
      "/var/folders/8w/qfs78brj4918m385ryck9h000000gn/T/ipykernel_1254/1161266205.py:2: UserWarning: Could not infer format, so each element will be parsed individually, falling back to `dateutil`. To ensure parsing is consistent and as-expected, please specify a format.\n",
      "  df['issue_d']=pd.to_datetime(df['issue_d'])\n",
      "/var/folders/8w/qfs78brj4918m385ryck9h000000gn/T/ipykernel_1254/1161266205.py:3: UserWarning: Could not infer format, so each element will be parsed individually, falling back to `dateutil`. To ensure parsing is consistent and as-expected, please specify a format.\n",
      "  df['earliest_cr_line']=pd.to_datetime(df['earliest_cr_line'])\n"
     ]
    }
   ],
   "source": [
    "#converting string to datetime format\n",
    "df['issue_d']=pd.to_datetime(df['issue_d'])\n",
    "df['earliest_cr_line']=pd.to_datetime(df['earliest_cr_line'])\n"
   ]
  },
  {
   "cell_type": "code",
   "execution_count": 1013,
   "metadata": {},
   "outputs": [
    {
     "data": {
      "text/plain": [
       "verification_status\n",
       "Verified           139563\n",
       "Source Verified    131385\n",
       "Not Verified       125082\n",
       "Name: count, dtype: int64"
      ]
     },
     "execution_count": 1013,
     "metadata": {},
     "output_type": "execute_result"
    }
   ],
   "source": [
    "df['verification_status'].value_counts()"
   ]
  },
  {
   "cell_type": "code",
   "execution_count": 1014,
   "metadata": {},
   "outputs": [
    {
     "data": {
      "text/plain": [
       "(array([ 0,  1,  2,  3,  4,  5,  6,  7,  8,  9, 10]),\n",
       " [Text(0, 0, '10+ years'),\n",
       "  Text(1, 0, '4 years'),\n",
       "  Text(2, 0, '< 1 year'),\n",
       "  Text(3, 0, '6 years'),\n",
       "  Text(4, 0, '9 years'),\n",
       "  Text(5, 0, '2 years'),\n",
       "  Text(6, 0, '3 years'),\n",
       "  Text(7, 0, '8 years'),\n",
       "  Text(8, 0, '7 years'),\n",
       "  Text(9, 0, '5 years'),\n",
       "  Text(10, 0, '1 year')])"
      ]
     },
     "execution_count": 1014,
     "metadata": {},
     "output_type": "execute_result"
    },
    {
     "data": {
      "image/png": "[encoded data removed]",
      "text/plain": [
       "<Figure size 1500x2000 with 7 Axes>"
      ]
     },
     "metadata": {},
     "output_type": "display_data"
    }
   ],
   "source": [
    "plt.figure(figsize=(15, 20))\n",
    "\n",
    "\n",
    "plt.subplot(4, 2, 1)\n",
    "sns.countplot(data=df,hue='loan_status',x='verification_status')\n",
    "\n",
    "plt.subplot(4, 2, 2)\n",
    "sns.countplot(data=df,hue='loan_status',x='term')\n",
    "\n",
    "plt.subplot(4, 2, 3)\n",
    "sns.countplot(data=df,hue='loan_status',x='grade')\n",
    "\n",
    "plt.subplot(4, 2, 4)\n",
    "sns.countplot(data=df,hue='loan_status',x='home_ownership')\n",
    "\n",
    "plt.subplot(4, 2, 5)\n",
    "sns.countplot(data=df,hue='loan_status',x='application_type')\n",
    "\n",
    "\n",
    "plt.subplot(4, 2, 6)\n",
    "sns.countplot(data=df,hue='loan_status',x='purpose')\n",
    "plt.xticks(rotation=90)\n",
    "\n",
    "plt.subplot(4, 2, 7)\n",
    "sns.countplot(data=df,hue='loan_status',x='emp_length')\n",
    "plt.xticks(rotation=90)\n"
   ]
  },
  {
   "cell_type": "markdown",
   "metadata": {},
   "source": [
    "Points from above visualisations->\n",
    "\n",
    "There isn't much relation between verification status and loan status.\n",
    "\n",
    "Term of loan for majority of fully paid loans is 36 months. \n",
    "\n",
    "The top loan grade among the fully paid loans is B\n",
    "\n",
    "The home ownership owned by most of the fully paid loan individuals- Mortgate and Rent\n",
    "\n",
    "There is only one application type in the dataset- 'INDIVDUAL'\n",
    "\n",
    "The top 3 purposes of both kind of sections (fully paid and defaulted) - debt consolidation, credit card, home improvement "
   ]
  },
  {
   "cell_type": "code",
   "execution_count": 1015,
   "metadata": {},
   "outputs": [
    {
     "data": {
      "text/plain": [
       "emp_title\n",
       "Teacher             3532\n",
       "Manager             3321\n",
       "Registered Nurse    1476\n",
       "RN                  1467\n",
       "Supervisor          1425\n",
       "Project Manager     1259\n",
       "Sales               1239\n",
       "Office Manager       970\n",
       "Driver               961\n",
       "Owner                954\n",
       "Name: count, dtype: int64"
      ]
     },
     "execution_count": 1015,
     "metadata": {},
     "output_type": "execute_result"
    }
   ],
   "source": [
    "#top 10 job titles which affored the loan and fully paid\n",
    "# Teacher, Manager and Registered Nurse are the top 3\n",
    "\n",
    "df.loc[df['loan_status']=='Fully Paid','emp_title'].value_counts(sort=True)[:10]"
   ]
  },
  {
   "cell_type": "code",
   "execution_count": 1016,
   "metadata": {},
   "outputs": [
    {
     "data": {
      "text/plain": [
       "emp_title\n",
       "Manager             929\n",
       "Teacher             857\n",
       "Owner               456\n",
       "Supervisor          405\n",
       "Sales               399\n",
       "Registered Nurse    380\n",
       "RN                  379\n",
       "Driver              378\n",
       "manager             326\n",
       "driver              283\n",
       "Name: count, dtype: int64"
      ]
     },
     "execution_count": 1016,
     "metadata": {},
     "output_type": "execute_result"
    }
   ],
   "source": [
    "#top 10 job titles which defaulted the loan\n",
    "# Manager,Teacher and Owner are the top 3\n",
    "\n",
    "df.loc[df['loan_status']=='Charged Off','emp_title'].value_counts(sort=True)[:10]"
   ]
  },
  {
   "cell_type": "markdown",
   "metadata": {},
   "source": [
    "### Feature Engineering"
   ]
  },
  {
   "cell_type": "code",
   "execution_count": 1017,
   "metadata": {},
   "outputs": [
    {
     "data": {
      "text/html": [
       "<div>\n",
       "<style scoped>\n",
       "    .dataframe tbody tr th:only-of-type {\n",
       "        vertical-align: middle;\n",
       "    }\n",
       "\n",
       "    .dataframe tbody tr th {\n",
       "        vertical-align: top;\n",
       "    }\n",
       "\n",
       "    .dataframe thead th {\n",
       "        text-align: right;\n",
       "    }\n",
       "</style>\n",
       "<table border=\"1\" class=\"dataframe\">\n",
       "  <thead>\n",
       "    <tr style=\"text-align: right;\">\n",
       "      <th></th>\n",
       "      <th>loan_amnt</th>\n",
       "      <th>term</th>\n",
       "      <th>int_rate</th>\n",
       "      <th>grade</th>\n",
       "      <th>sub_grade</th>\n",
       "      <th>emp_title</th>\n",
       "      <th>emp_length</th>\n",
       "      <th>home_ownership</th>\n",
       "      <th>annual_inc</th>\n",
       "      <th>verification_status</th>\n",
       "      <th>issue_d</th>\n",
       "      <th>loan_status</th>\n",
       "      <th>purpose</th>\n",
       "      <th>title</th>\n",
       "      <th>dti</th>\n",
       "      <th>earliest_cr_line</th>\n",
       "      <th>open_acc</th>\n",
       "      <th>pub_rec</th>\n",
       "      <th>revol_bal</th>\n",
       "      <th>revol_util</th>\n",
       "      <th>total_acc</th>\n",
       "      <th>initial_list_status</th>\n",
       "      <th>application_type</th>\n",
       "      <th>mort_acc</th>\n",
       "      <th>address</th>\n",
       "      <th>state_code</th>\n",
       "      <th>pin_code</th>\n",
       "    </tr>\n",
       "  </thead>\n",
       "  <tbody>\n",
       "    <tr>\n",
       "      <th>0</th>\n",
       "      <td>10000.0</td>\n",
       "      <td>36 months</td>\n",
       "      <td>11.44</td>\n",
       "      <td>B</td>\n",
       "      <td>B4</td>\n",
       "      <td>Marketing</td>\n",
       "      <td>10+ years</td>\n",
       "      <td>RENT</td>\n",
       "      <td>117000.0</td>\n",
       "      <td>Not Verified</td>\n",
       "      <td>2015-01-01</td>\n",
       "      <td>Fully Paid</td>\n",
       "      <td>vacation</td>\n",
       "      <td>Vacation</td>\n",
       "      <td>26.24</td>\n",
       "      <td>1990-06-01</td>\n",
       "      <td>16.0</td>\n",
       "      <td>0.0</td>\n",
       "      <td>36369.0</td>\n",
       "      <td>41.8</td>\n",
       "      <td>25.0</td>\n",
       "      <td>w</td>\n",
       "      <td>INDIVIDUAL</td>\n",
       "      <td>0.0</td>\n",
       "      <td>0174 Michelle Gateway\\r\\nMendozaberg, OK 22690</td>\n",
       "      <td>OK</td>\n",
       "      <td>22690</td>\n",
       "    </tr>\n",
       "    <tr>\n",
       "      <th>1</th>\n",
       "      <td>8000.0</td>\n",
       "      <td>36 months</td>\n",
       "      <td>11.99</td>\n",
       "      <td>B</td>\n",
       "      <td>B5</td>\n",
       "      <td>Credit analyst</td>\n",
       "      <td>4 years</td>\n",
       "      <td>MORTGAGE</td>\n",
       "      <td>65000.0</td>\n",
       "      <td>Not Verified</td>\n",
       "      <td>2015-01-01</td>\n",
       "      <td>Fully Paid</td>\n",
       "      <td>debt_consolidation</td>\n",
       "      <td>Debt consolidation</td>\n",
       "      <td>22.05</td>\n",
       "      <td>2004-07-01</td>\n",
       "      <td>17.0</td>\n",
       "      <td>0.0</td>\n",
       "      <td>20131.0</td>\n",
       "      <td>53.3</td>\n",
       "      <td>27.0</td>\n",
       "      <td>f</td>\n",
       "      <td>INDIVIDUAL</td>\n",
       "      <td>3.0</td>\n",
       "      <td>1076 Carney Fort Apt. 347\\r\\nLoganmouth, SD 05113</td>\n",
       "      <td>SD</td>\n",
       "      <td>05113</td>\n",
       "    </tr>\n",
       "    <tr>\n",
       "      <th>2</th>\n",
       "      <td>15600.0</td>\n",
       "      <td>36 months</td>\n",
       "      <td>10.49</td>\n",
       "      <td>B</td>\n",
       "      <td>B3</td>\n",
       "      <td>Statistician</td>\n",
       "      <td>&lt; 1 year</td>\n",
       "      <td>RENT</td>\n",
       "      <td>43057.0</td>\n",
       "      <td>Source Verified</td>\n",
       "      <td>2015-01-01</td>\n",
       "      <td>Fully Paid</td>\n",
       "      <td>credit_card</td>\n",
       "      <td>Credit card refinancing</td>\n",
       "      <td>12.79</td>\n",
       "      <td>2007-08-01</td>\n",
       "      <td>13.0</td>\n",
       "      <td>0.0</td>\n",
       "      <td>11987.0</td>\n",
       "      <td>92.2</td>\n",
       "      <td>26.0</td>\n",
       "      <td>f</td>\n",
       "      <td>INDIVIDUAL</td>\n",
       "      <td>0.0</td>\n",
       "      <td>87025 Mark Dale Apt. 269\\r\\nNew Sabrina, WV 05113</td>\n",
       "      <td>WV</td>\n",
       "      <td>05113</td>\n",
       "    </tr>\n",
       "    <tr>\n",
       "      <th>3</th>\n",
       "      <td>7200.0</td>\n",
       "      <td>36 months</td>\n",
       "      <td>6.49</td>\n",
       "      <td>A</td>\n",
       "      <td>A2</td>\n",
       "      <td>Client Advocate</td>\n",
       "      <td>6 years</td>\n",
       "      <td>RENT</td>\n",
       "      <td>54000.0</td>\n",
       "      <td>Not Verified</td>\n",
       "      <td>2014-11-01</td>\n",
       "      <td>Fully Paid</td>\n",
       "      <td>credit_card</td>\n",
       "      <td>Credit card refinancing</td>\n",
       "      <td>2.60</td>\n",
       "      <td>2006-09-01</td>\n",
       "      <td>6.0</td>\n",
       "      <td>0.0</td>\n",
       "      <td>5472.0</td>\n",
       "      <td>21.5</td>\n",
       "      <td>13.0</td>\n",
       "      <td>f</td>\n",
       "      <td>INDIVIDUAL</td>\n",
       "      <td>0.0</td>\n",
       "      <td>823 Reid Ford\\r\\nDelacruzside, MA 00813</td>\n",
       "      <td>MA</td>\n",
       "      <td>00813</td>\n",
       "    </tr>\n",
       "    <tr>\n",
       "      <th>4</th>\n",
       "      <td>24375.0</td>\n",
       "      <td>60 months</td>\n",
       "      <td>17.27</td>\n",
       "      <td>C</td>\n",
       "      <td>C5</td>\n",
       "      <td>Destiny Management Inc.</td>\n",
       "      <td>9 years</td>\n",
       "      <td>MORTGAGE</td>\n",
       "      <td>55000.0</td>\n",
       "      <td>Verified</td>\n",
       "      <td>2013-04-01</td>\n",
       "      <td>Charged Off</td>\n",
       "      <td>credit_card</td>\n",
       "      <td>Credit Card Refinance</td>\n",
       "      <td>33.95</td>\n",
       "      <td>1999-03-01</td>\n",
       "      <td>13.0</td>\n",
       "      <td>0.0</td>\n",
       "      <td>24584.0</td>\n",
       "      <td>69.8</td>\n",
       "      <td>43.0</td>\n",
       "      <td>f</td>\n",
       "      <td>INDIVIDUAL</td>\n",
       "      <td>1.0</td>\n",
       "      <td>679 Luna Roads\\r\\nGreggshire, VA 11650</td>\n",
       "      <td>VA</td>\n",
       "      <td>11650</td>\n",
       "    </tr>\n",
       "  </tbody>\n",
       "</table>\n",
       "</div>"
      ],
      "text/plain": [
       "   loan_amnt        term  int_rate grade sub_grade                emp_title  \\\n",
       "0    10000.0   36 months     11.44     B        B4                Marketing   \n",
       "1     8000.0   36 months     11.99     B        B5          Credit analyst    \n",
       "2    15600.0   36 months     10.49     B        B3             Statistician   \n",
       "3     7200.0   36 months      6.49     A        A2          Client Advocate   \n",
       "4    24375.0   60 months     17.27     C        C5  Destiny Management Inc.   \n",
       "\n",
       "  emp_length home_ownership  annual_inc verification_status    issue_d  \\\n",
       "0  10+ years           RENT    117000.0        Not Verified 2015-01-01   \n",
       "1    4 years       MORTGAGE     65000.0        Not Verified 2015-01-01   \n",
       "2   < 1 year           RENT     43057.0     Source Verified 2015-01-01   \n",
       "3    6 years           RENT     54000.0        Not Verified 2014-11-01   \n",
       "4    9 years       MORTGAGE     55000.0            Verified 2013-04-01   \n",
       "\n",
       "   loan_status             purpose                    title    dti  \\\n",
       "0   Fully Paid            vacation                 Vacation  26.24   \n",
       "1   Fully Paid  debt_consolidation       Debt consolidation  22.05   \n",
       "2   Fully Paid         credit_card  Credit card refinancing  12.79   \n",
       "3   Fully Paid         credit_card  Credit card refinancing   2.60   \n",
       "4  Charged Off         credit_card    Credit Card Refinance  33.95   \n",
       "\n",
       "  earliest_cr_line  open_acc  pub_rec  revol_bal  revol_util  total_acc  \\\n",
       "0       1990-06-01      16.0      0.0    36369.0        41.8       25.0   \n",
       "1       2004-07-01      17.0      0.0    20131.0        53.3       27.0   \n",
       "2       2007-08-01      13.0      0.0    11987.0        92.2       26.0   \n",
       "3       2006-09-01       6.0      0.0     5472.0        21.5       13.0   \n",
       "4       1999-03-01      13.0      0.0    24584.0        69.8       43.0   \n",
       "\n",
       "  initial_list_status application_type  mort_acc  \\\n",
       "0                   w       INDIVIDUAL       0.0   \n",
       "1                   f       INDIVIDUAL       3.0   \n",
       "2                   f       INDIVIDUAL       0.0   \n",
       "3                   f       INDIVIDUAL       0.0   \n",
       "4                   f       INDIVIDUAL       1.0   \n",
       "\n",
       "                                             address state_code pin_code  \n",
       "0     0174 Michelle Gateway\\r\\nMendozaberg, OK 22690         OK    22690  \n",
       "1  1076 Carney Fort Apt. 347\\r\\nLoganmouth, SD 05113         SD    05113  \n",
       "2  87025 Mark Dale Apt. 269\\r\\nNew Sabrina, WV 05113         WV    05113  \n",
       "3            823 Reid Ford\\r\\nDelacruzside, MA 00813         MA    00813  \n",
       "4             679 Luna Roads\\r\\nGreggshire, VA 11650         VA    11650  "
      ]
     },
     "execution_count": 1017,
     "metadata": {},
     "output_type": "execute_result"
    }
   ],
   "source": [
    "\n",
    "#extracting out state_code and pin_code from the address\n",
    "temp=df['address'].apply(lambda x: x[-8:])\n",
    "\n",
    "temp=temp.apply(lambda x: x.split(' '))\n",
    "df['state_code']=temp.apply(lambda x:x[0])\n",
    "df['pin_code']=temp.apply(lambda x:x[1])\n",
    "\n",
    "df.head()\n"
   ]
  },
  {
   "cell_type": "code",
   "execution_count": 1018,
   "metadata": {},
   "outputs": [
    {
     "data": {
      "text/plain": [
       "state_code\n",
       "AP    2873\n",
       "AE    2763\n",
       "AA    2711\n",
       "WY    1443\n",
       "NV    1425\n",
       "WV    1417\n",
       "MS    1414\n",
       "WI    1402\n",
       "WA    1394\n",
       "AK    1390\n",
       "Name: count, dtype: int64"
      ]
     },
     "execution_count": 1018,
     "metadata": {},
     "output_type": "execute_result"
    }
   ],
   "source": [
    "df.loc[df['loan_status']=='Charged Off','state_code'].value_counts(sort=True)[:10]\n",
    "#top 10 states with highest count of Charged Off loans\n"
   ]
  },
  {
   "cell_type": "markdown",
   "metadata": {},
   "source": []
  },
  {
   "cell_type": "code",
   "execution_count": 1019,
   "metadata": {},
   "outputs": [
    {
     "data": {
      "text/plain": [
       "state_code\n",
       "AP    11435\n",
       "AE    11394\n",
       "AA    11208\n",
       "NJ     5714\n",
       "LA     5699\n",
       "NY     5698\n",
       "WI     5679\n",
       "VT     5670\n",
       "MN     5655\n",
       "VA     5652\n",
       "Name: count, dtype: int64"
      ]
     },
     "execution_count": 1019,
     "metadata": {},
     "output_type": "execute_result"
    }
   ],
   "source": [
    "df.loc[df['loan_status']=='Fully Paid','state_code'].value_counts(sort=True)[:10]\n",
    "#top 10 states with highest count of Fully Paid loans"
   ]
  },
  {
   "cell_type": "code",
   "execution_count": 1020,
   "metadata": {},
   "outputs": [
    {
     "data": {
      "text/plain": [
       "loan_status\n",
       "0    318357\n",
       "1     77673\n",
       "Name: count, dtype: int64"
      ]
     },
     "execution_count": 1020,
     "metadata": {},
     "output_type": "execute_result"
    }
   ],
   "source": [
    "#replacing 1 for paid and 0 for defaulted loans\n",
    "df['loan_status'].replace({'Fully Paid':0,'Charged Off':1},inplace=True)\n",
    "df['loan_status'].value_counts()"
   ]
  },
  {
   "cell_type": "code",
   "execution_count": 1021,
   "metadata": {},
   "outputs": [
    {
     "name": "stderr",
     "output_type": "stream",
     "text": [
      "/var/folders/8w/qfs78brj4918m385ryck9h000000gn/T/ipykernel_1254/1866419667.py:15: FutureWarning: Calling float on a single element Series is deprecated and will raise a TypeError in the future. Use float(ser.iloc[0]) instead\n",
      "  df['mort_acc']=df['mort_acc'].astype(float)\n"
     ]
    },
    {
     "data": {
      "text/plain": [
       "loan_amnt              0.000000\n",
       "term                   0.000000\n",
       "int_rate               0.000000\n",
       "grade                  0.000000\n",
       "sub_grade              0.000000\n",
       "emp_title              5.789208\n",
       "emp_length             4.621115\n",
       "home_ownership         0.000000\n",
       "annual_inc             0.000000\n",
       "verification_status    0.000000\n",
       "issue_d                0.000000\n",
       "loan_status            0.000000\n",
       "purpose                0.000000\n",
       "title                  0.443401\n",
       "dti                    0.000000\n",
       "earliest_cr_line       0.000000\n",
       "open_acc               0.000000\n",
       "pub_rec                0.000000\n",
       "revol_bal              0.000000\n",
       "revol_util             0.069692\n",
       "total_acc              0.000000\n",
       "initial_list_status    0.000000\n",
       "application_type       0.000000\n",
       "mort_acc               0.000000\n",
       "address                0.000000\n",
       "state_code             0.000000\n",
       "pin_code               0.000000\n",
       "dtype: float64"
      ]
     },
     "execution_count": 1021,
     "metadata": {},
     "output_type": "execute_result"
    }
   ],
   "source": [
    "#now, let's try to fill the null values in mort_acc column since the percentage is pretty high- ~9%\n",
    "#As we can see in the heatmap above that mort_acc has the highest correlation with total_acc, hence we will try to perform mean target imputation \n",
    "# according to that variable\n",
    "#We are trying to group by total_acc and find the mean value of mort_acc and then replace the null values in mort_acc\n",
    "# according to the corresponding mean value.\n",
    "\n",
    "total_acc_avg=df.groupby(by='total_acc',as_index=False)['mort_acc'].mean()\n",
    "def fill_mort_na(total_acc,mort_acc):\n",
    "    if np.isnan(mort_acc):\n",
    "        return total_acc_avg.loc[total_acc_avg['total_acc']==total_acc,'mort_acc']  \n",
    "    else:\n",
    "        return mort_acc\n",
    "    \n",
    "df['mort_acc']=df.apply(lambda x: fill_mort_na(x['total_acc'],x['mort_acc']),axis=1)\n",
    "df['mort_acc']=df['mort_acc'].astype(float)\n",
    "df.isna().sum()/df.shape[0]*100"
   ]
  },
  {
   "cell_type": "code",
   "execution_count": 1022,
   "metadata": {},
   "outputs": [
    {
     "data": {
      "text/plain": [
       "(371125, 27)"
      ]
     },
     "execution_count": 1022,
     "metadata": {},
     "output_type": "execute_result"
    }
   ],
   "source": [
    "#dropping the rest of the rows with NA values.\n",
    "\n",
    "df.dropna(inplace=True)\n",
    "df.shape\n",
    "\n"
   ]
  },
  {
   "cell_type": "code",
   "execution_count": 1023,
   "metadata": {},
   "outputs": [
    {
     "data": {
      "text/plain": [
       "Index(['loan_amnt', 'int_rate', 'annual_inc', 'loan_status', 'dti', 'open_acc',\n",
       "       'pub_rec', 'revol_bal', 'revol_util', 'total_acc', 'mort_acc'],\n",
       "      dtype='object')"
      ]
     },
     "execution_count": 1023,
     "metadata": {},
     "output_type": "execute_result"
    }
   ],
   "source": [
    "numerical_data = df.select_dtypes(include='number')\n",
    "num_cols = numerical_data.columns\n",
    "num_cols"
   ]
  },
  {
   "cell_type": "markdown",
   "metadata": {},
   "source": [
    "Outlier Removal"
   ]
  },
  {
   "cell_type": "code",
   "execution_count": 1024,
   "metadata": {},
   "outputs": [
    {
     "name": "stdout",
     "output_type": "stream",
     "text": [
      "(371125, 27)\n"
     ]
    },
    {
     "data": {
      "text/plain": [
       "(342742, 27)"
      ]
     },
     "execution_count": 1024,
     "metadata": {},
     "output_type": "execute_result"
    }
   ],
   "source": [
    "\n",
    "print(df.shape)\n",
    "for col in num_cols:\n",
    "    mean = df[col].mean()\n",
    "    std = df[col].std()\n",
    "\n",
    "    upper_limit = mean+3*std\n",
    "    lower_limit = mean-3*std\n",
    "\n",
    "    df = df[(df[col]<upper_limit) & (df[col]>lower_limit)]\n",
    "\n",
    "df.shape\n",
    "\n",
    "# Three-sigma limits (3-sigma limits) is a statistical calculation that refers to data within three standard deviations from a mean.\n",
    "# Three-sigma limits are used to set the upper and lower control limits in statistical quality control charts.\n",
    "# On a bell curve, data that lie above the average and beyond the three-sigma line represent less than 1% of all data points\n",
    "\n",
    "\n",
    "    "
   ]
  },
  {
   "cell_type": "code",
   "execution_count": 1025,
   "metadata": {},
   "outputs": [
    {
     "name": "stdout",
     "output_type": "stream",
     "text": [
      "[' 36 months' ' 60 months']\n",
      "[36 60]\n"
     ]
    }
   ],
   "source": [
    "#cleaning up term column\n",
    "print(df['term'].unique())\n",
    "df['term'].replace({' 36 months': 36,' 60 months':60},inplace=True)\n",
    "print(df['term'].unique())"
   ]
  },
  {
   "cell_type": "code",
   "execution_count": 1026,
   "metadata": {},
   "outputs": [
    {
     "name": "stdout",
     "output_type": "stream",
     "text": [
      "['w' 'f']\n",
      "[0 1]\n"
     ]
    }
   ],
   "source": [
    "#cleaning up 'initial_list_status' column\n",
    "print(df['initial_list_status'].unique())\n",
    "df['initial_list_status'].replace({'w': 0,'f':1},inplace=True)\n",
    "print(df['initial_list_status'].unique())"
   ]
  },
  {
   "cell_type": "code",
   "execution_count": 1027,
   "metadata": {},
   "outputs": [
    {
     "data": {
      "text/plain": [
       "Index(['loan_amnt', 'term', 'int_rate', 'grade', 'home_ownership',\n",
       "       'annual_inc', 'verification_status', 'loan_status', 'purpose', 'dti',\n",
       "       'open_acc', 'pub_rec', 'revol_bal', 'revol_util', 'total_acc',\n",
       "       'initial_list_status', 'mort_acc', 'pin_code'],\n",
       "      dtype='object')"
      ]
     },
     "execution_count": 1027,
     "metadata": {},
     "output_type": "execute_result"
    }
   ],
   "source": [
    "#dropping columns which might not be useful in the model\n",
    "df.drop(columns=['address','application_type','emp_title','sub_grade','title','earliest_cr_line','issue_d','emp_length','state_code'],inplace=True)\n",
    "df.columns\n",
    "\n"
   ]
  },
  {
   "cell_type": "code",
   "execution_count": 1028,
   "metadata": {},
   "outputs": [],
   "source": [
    "\n",
    "#Creation of Flags- If value greater than 1.0 then 1 else 0. This can be done on:\n",
    "# 1. Pub_rec\n",
    "# 2. Mort_acc\n",
    "def create_flag(x):\n",
    "    if x==0.0 or x==0:\n",
    "        return 0\n",
    "    else:\n",
    "        return 1\n",
    "\n",
    "for col in ['pub_rec','mort_acc']:\n",
    "    df[col]=df[col].apply(lambda x:create_flag(x))\n"
   ]
  },
  {
   "cell_type": "code",
   "execution_count": 1029,
   "metadata": {},
   "outputs": [
    {
     "data": {
      "text/html": [
       "<div>\n",
       "<style scoped>\n",
       "    .dataframe tbody tr th:only-of-type {\n",
       "        vertical-align: middle;\n",
       "    }\n",
       "\n",
       "    .dataframe tbody tr th {\n",
       "        vertical-align: top;\n",
       "    }\n",
       "\n",
       "    .dataframe thead th {\n",
       "        text-align: right;\n",
       "    }\n",
       "</style>\n",
       "<table border=\"1\" class=\"dataframe\">\n",
       "  <thead>\n",
       "    <tr style=\"text-align: right;\">\n",
       "      <th></th>\n",
       "      <th>loan_amnt</th>\n",
       "      <th>term</th>\n",
       "      <th>int_rate</th>\n",
       "      <th>annual_inc</th>\n",
       "      <th>loan_status</th>\n",
       "      <th>dti</th>\n",
       "      <th>open_acc</th>\n",
       "      <th>pub_rec</th>\n",
       "      <th>revol_bal</th>\n",
       "      <th>revol_util</th>\n",
       "      <th>total_acc</th>\n",
       "      <th>initial_list_status</th>\n",
       "      <th>mort_acc</th>\n",
       "      <th>grade_B</th>\n",
       "      <th>grade_C</th>\n",
       "      <th>grade_D</th>\n",
       "      <th>grade_E</th>\n",
       "      <th>grade_F</th>\n",
       "      <th>grade_G</th>\n",
       "      <th>home_ownership_OTHER</th>\n",
       "      <th>home_ownership_OWN</th>\n",
       "      <th>home_ownership_RENT</th>\n",
       "      <th>verification_status_Source Verified</th>\n",
       "      <th>verification_status_Verified</th>\n",
       "      <th>purpose_credit_card</th>\n",
       "      <th>purpose_debt_consolidation</th>\n",
       "      <th>purpose_educational</th>\n",
       "      <th>purpose_home_improvement</th>\n",
       "      <th>purpose_house</th>\n",
       "      <th>purpose_major_purchase</th>\n",
       "      <th>purpose_medical</th>\n",
       "      <th>purpose_moving</th>\n",
       "      <th>purpose_other</th>\n",
       "      <th>purpose_renewable_energy</th>\n",
       "      <th>purpose_small_business</th>\n",
       "      <th>purpose_vacation</th>\n",
       "      <th>purpose_wedding</th>\n",
       "      <th>pin_code_05113</th>\n",
       "      <th>pin_code_11650</th>\n",
       "      <th>pin_code_22690</th>\n",
       "      <th>pin_code_29597</th>\n",
       "      <th>pin_code_30723</th>\n",
       "      <th>pin_code_48052</th>\n",
       "      <th>pin_code_70466</th>\n",
       "      <th>pin_code_86630</th>\n",
       "      <th>pin_code_93700</th>\n",
       "    </tr>\n",
       "  </thead>\n",
       "  <tbody>\n",
       "    <tr>\n",
       "      <th>0</th>\n",
       "      <td>10000.0</td>\n",
       "      <td>36</td>\n",
       "      <td>11.44</td>\n",
       "      <td>117000.0</td>\n",
       "      <td>0</td>\n",
       "      <td>26.24</td>\n",
       "      <td>16.0</td>\n",
       "      <td>0</td>\n",
       "      <td>36369.0</td>\n",
       "      <td>41.8</td>\n",
       "      <td>25.0</td>\n",
       "      <td>0</td>\n",
       "      <td>0</td>\n",
       "      <td>1</td>\n",
       "      <td>0</td>\n",
       "      <td>0</td>\n",
       "      <td>0</td>\n",
       "      <td>0</td>\n",
       "      <td>0</td>\n",
       "      <td>0</td>\n",
       "      <td>0</td>\n",
       "      <td>1</td>\n",
       "      <td>0</td>\n",
       "      <td>0</td>\n",
       "      <td>0</td>\n",
       "      <td>0</td>\n",
       "      <td>0</td>\n",
       "      <td>0</td>\n",
       "      <td>0</td>\n",
       "      <td>0</td>\n",
       "      <td>0</td>\n",
       "      <td>0</td>\n",
       "      <td>0</td>\n",
       "      <td>0</td>\n",
       "      <td>0</td>\n",
       "      <td>1</td>\n",
       "      <td>0</td>\n",
       "      <td>0</td>\n",
       "      <td>0</td>\n",
       "      <td>1</td>\n",
       "      <td>0</td>\n",
       "      <td>0</td>\n",
       "      <td>0</td>\n",
       "      <td>0</td>\n",
       "      <td>0</td>\n",
       "      <td>0</td>\n",
       "    </tr>\n",
       "    <tr>\n",
       "      <th>1</th>\n",
       "      <td>8000.0</td>\n",
       "      <td>36</td>\n",
       "      <td>11.99</td>\n",
       "      <td>65000.0</td>\n",
       "      <td>0</td>\n",
       "      <td>22.05</td>\n",
       "      <td>17.0</td>\n",
       "      <td>0</td>\n",
       "      <td>20131.0</td>\n",
       "      <td>53.3</td>\n",
       "      <td>27.0</td>\n",
       "      <td>1</td>\n",
       "      <td>1</td>\n",
       "      <td>1</td>\n",
       "      <td>0</td>\n",
       "      <td>0</td>\n",
       "      <td>0</td>\n",
       "      <td>0</td>\n",
       "      <td>0</td>\n",
       "      <td>0</td>\n",
       "      <td>0</td>\n",
       "      <td>0</td>\n",
       "      <td>0</td>\n",
       "      <td>0</td>\n",
       "      <td>0</td>\n",
       "      <td>1</td>\n",
       "      <td>0</td>\n",
       "      <td>0</td>\n",
       "      <td>0</td>\n",
       "      <td>0</td>\n",
       "      <td>0</td>\n",
       "      <td>0</td>\n",
       "      <td>0</td>\n",
       "      <td>0</td>\n",
       "      <td>0</td>\n",
       "      <td>0</td>\n",
       "      <td>0</td>\n",
       "      <td>1</td>\n",
       "      <td>0</td>\n",
       "      <td>0</td>\n",
       "      <td>0</td>\n",
       "      <td>0</td>\n",
       "      <td>0</td>\n",
       "      <td>0</td>\n",
       "      <td>0</td>\n",
       "      <td>0</td>\n",
       "    </tr>\n",
       "    <tr>\n",
       "      <th>2</th>\n",
       "      <td>15600.0</td>\n",
       "      <td>36</td>\n",
       "      <td>10.49</td>\n",
       "      <td>43057.0</td>\n",
       "      <td>0</td>\n",
       "      <td>12.79</td>\n",
       "      <td>13.0</td>\n",
       "      <td>0</td>\n",
       "      <td>11987.0</td>\n",
       "      <td>92.2</td>\n",
       "      <td>26.0</td>\n",
       "      <td>1</td>\n",
       "      <td>0</td>\n",
       "      <td>1</td>\n",
       "      <td>0</td>\n",
       "      <td>0</td>\n",
       "      <td>0</td>\n",
       "      <td>0</td>\n",
       "      <td>0</td>\n",
       "      <td>0</td>\n",
       "      <td>0</td>\n",
       "      <td>1</td>\n",
       "      <td>1</td>\n",
       "      <td>0</td>\n",
       "      <td>1</td>\n",
       "      <td>0</td>\n",
       "      <td>0</td>\n",
       "      <td>0</td>\n",
       "      <td>0</td>\n",
       "      <td>0</td>\n",
       "      <td>0</td>\n",
       "      <td>0</td>\n",
       "      <td>0</td>\n",
       "      <td>0</td>\n",
       "      <td>0</td>\n",
       "      <td>0</td>\n",
       "      <td>0</td>\n",
       "      <td>1</td>\n",
       "      <td>0</td>\n",
       "      <td>0</td>\n",
       "      <td>0</td>\n",
       "      <td>0</td>\n",
       "      <td>0</td>\n",
       "      <td>0</td>\n",
       "      <td>0</td>\n",
       "      <td>0</td>\n",
       "    </tr>\n",
       "    <tr>\n",
       "      <th>3</th>\n",
       "      <td>7200.0</td>\n",
       "      <td>36</td>\n",
       "      <td>6.49</td>\n",
       "      <td>54000.0</td>\n",
       "      <td>0</td>\n",
       "      <td>2.60</td>\n",
       "      <td>6.0</td>\n",
       "      <td>0</td>\n",
       "      <td>5472.0</td>\n",
       "      <td>21.5</td>\n",
       "      <td>13.0</td>\n",
       "      <td>1</td>\n",
       "      <td>0</td>\n",
       "      <td>0</td>\n",
       "      <td>0</td>\n",
       "      <td>0</td>\n",
       "      <td>0</td>\n",
       "      <td>0</td>\n",
       "      <td>0</td>\n",
       "      <td>0</td>\n",
       "      <td>0</td>\n",
       "      <td>1</td>\n",
       "      <td>0</td>\n",
       "      <td>0</td>\n",
       "      <td>1</td>\n",
       "      <td>0</td>\n",
       "      <td>0</td>\n",
       "      <td>0</td>\n",
       "      <td>0</td>\n",
       "      <td>0</td>\n",
       "      <td>0</td>\n",
       "      <td>0</td>\n",
       "      <td>0</td>\n",
       "      <td>0</td>\n",
       "      <td>0</td>\n",
       "      <td>0</td>\n",
       "      <td>0</td>\n",
       "      <td>0</td>\n",
       "      <td>0</td>\n",
       "      <td>0</td>\n",
       "      <td>0</td>\n",
       "      <td>0</td>\n",
       "      <td>0</td>\n",
       "      <td>0</td>\n",
       "      <td>0</td>\n",
       "      <td>0</td>\n",
       "    </tr>\n",
       "    <tr>\n",
       "      <th>4</th>\n",
       "      <td>24375.0</td>\n",
       "      <td>60</td>\n",
       "      <td>17.27</td>\n",
       "      <td>55000.0</td>\n",
       "      <td>1</td>\n",
       "      <td>33.95</td>\n",
       "      <td>13.0</td>\n",
       "      <td>0</td>\n",
       "      <td>24584.0</td>\n",
       "      <td>69.8</td>\n",
       "      <td>43.0</td>\n",
       "      <td>1</td>\n",
       "      <td>1</td>\n",
       "      <td>0</td>\n",
       "      <td>1</td>\n",
       "      <td>0</td>\n",
       "      <td>0</td>\n",
       "      <td>0</td>\n",
       "      <td>0</td>\n",
       "      <td>0</td>\n",
       "      <td>0</td>\n",
       "      <td>0</td>\n",
       "      <td>0</td>\n",
       "      <td>1</td>\n",
       "      <td>1</td>\n",
       "      <td>0</td>\n",
       "      <td>0</td>\n",
       "      <td>0</td>\n",
       "      <td>0</td>\n",
       "      <td>0</td>\n",
       "      <td>0</td>\n",
       "      <td>0</td>\n",
       "      <td>0</td>\n",
       "      <td>0</td>\n",
       "      <td>0</td>\n",
       "      <td>0</td>\n",
       "      <td>0</td>\n",
       "      <td>0</td>\n",
       "      <td>1</td>\n",
       "      <td>0</td>\n",
       "      <td>0</td>\n",
       "      <td>0</td>\n",
       "      <td>0</td>\n",
       "      <td>0</td>\n",
       "      <td>0</td>\n",
       "      <td>0</td>\n",
       "    </tr>\n",
       "  </tbody>\n",
       "</table>\n",
       "</div>"
      ],
      "text/plain": [
       "   loan_amnt  term  int_rate  annual_inc  loan_status    dti  open_acc  \\\n",
       "0    10000.0    36     11.44    117000.0            0  26.24      16.0   \n",
       "1     8000.0    36     11.99     65000.0            0  22.05      17.0   \n",
       "2    15600.0    36     10.49     43057.0            0  12.79      13.0   \n",
       "3     7200.0    36      6.49     54000.0            0   2.60       6.0   \n",
       "4    24375.0    60     17.27     55000.0            1  33.95      13.0   \n",
       "\n",
       "   pub_rec  revol_bal  revol_util  total_acc  initial_list_status  mort_acc  \\\n",
       "0        0    36369.0        41.8       25.0                    0         0   \n",
       "1        0    20131.0        53.3       27.0                    1         1   \n",
       "2        0    11987.0        92.2       26.0                    1         0   \n",
       "3        0     5472.0        21.5       13.0                    1         0   \n",
       "4        0    24584.0        69.8       43.0                    1         1   \n",
       "\n",
       "   grade_B  grade_C  grade_D  grade_E  grade_F  grade_G  home_ownership_OTHER  \\\n",
       "0        1        0        0        0        0        0                     0   \n",
       "1        1        0        0        0        0        0                     0   \n",
       "2        1        0        0        0        0        0                     0   \n",
       "3        0        0        0        0        0        0                     0   \n",
       "4        0        1        0        0        0        0                     0   \n",
       "\n",
       "   home_ownership_OWN  home_ownership_RENT  \\\n",
       "0                   0                    1   \n",
       "1                   0                    0   \n",
       "2                   0                    1   \n",
       "3                   0                    1   \n",
       "4                   0                    0   \n",
       "\n",
       "   verification_status_Source Verified  verification_status_Verified  \\\n",
       "0                                    0                             0   \n",
       "1                                    0                             0   \n",
       "2                                    1                             0   \n",
       "3                                    0                             0   \n",
       "4                                    0                             1   \n",
       "\n",
       "   purpose_credit_card  purpose_debt_consolidation  purpose_educational  \\\n",
       "0                    0                           0                    0   \n",
       "1                    0                           1                    0   \n",
       "2                    1                           0                    0   \n",
       "3                    1                           0                    0   \n",
       "4                    1                           0                    0   \n",
       "\n",
       "   purpose_home_improvement  purpose_house  purpose_major_purchase  \\\n",
       "0                         0              0                       0   \n",
       "1                         0              0                       0   \n",
       "2                         0              0                       0   \n",
       "3                         0              0                       0   \n",
       "4                         0              0                       0   \n",
       "\n",
       "   purpose_medical  purpose_moving  purpose_other  purpose_renewable_energy  \\\n",
       "0                0               0              0                         0   \n",
       "1                0               0              0                         0   \n",
       "2                0               0              0                         0   \n",
       "3                0               0              0                         0   \n",
       "4                0               0              0                         0   \n",
       "\n",
       "   purpose_small_business  purpose_vacation  purpose_wedding  pin_code_05113  \\\n",
       "0                       0                 1                0               0   \n",
       "1                       0                 0                0               1   \n",
       "2                       0                 0                0               1   \n",
       "3                       0                 0                0               0   \n",
       "4                       0                 0                0               0   \n",
       "\n",
       "   pin_code_11650  pin_code_22690  pin_code_29597  pin_code_30723  \\\n",
       "0               0               1               0               0   \n",
       "1               0               0               0               0   \n",
       "2               0               0               0               0   \n",
       "3               0               0               0               0   \n",
       "4               1               0               0               0   \n",
       "\n",
       "   pin_code_48052  pin_code_70466  pin_code_86630  pin_code_93700  \n",
       "0               0               0               0               0  \n",
       "1               0               0               0               0  \n",
       "2               0               0               0               0  \n",
       "3               0               0               0               0  \n",
       "4               0               0               0               0  "
      ]
     },
     "execution_count": 1029,
     "metadata": {},
     "output_type": "execute_result"
    }
   ],
   "source": [
    "#one hot encoding on rest of the categorical variables\n",
    "one_hot_col=['grade','home_ownership','verification_status','purpose','pin_code']\n",
    "\n",
    "df=pd.get_dummies(df,columns=one_hot_col,drop_first=True,dtype=int)\n",
    "df.head()\n",
    "#Now we have got all the columns in numeric data type and we can start training our model"
   ]
  },
  {
   "cell_type": "markdown",
   "metadata": {},
   "source": [
    "Data Preparation for Modelling"
   ]
  },
  {
   "cell_type": "code",
   "execution_count": 1030,
   "metadata": {},
   "outputs": [],
   "source": [
    "y=df['loan_status']\n",
    "x=df.drop(columns=['loan_status'],axis=1)\n",
    "\n",
    "\n"
   ]
  },
  {
   "cell_type": "code",
   "execution_count": 1031,
   "metadata": {},
   "outputs": [
    {
     "name": "stdout",
     "output_type": "stream",
     "text": [
      "(274193, 45)\n",
      "(68549,)\n",
      "(68549, 45)\n"
     ]
    }
   ],
   "source": [
    "x_train, x_test, y_train, y_test= train_test_split(x,y,test_size=0.20,random_state=20)\n",
    "\n",
    "\n",
    "\n",
    "print(x_train.shape)\n",
    "print(y_test.shape)\n",
    "print(x_test.shape)"
   ]
  },
  {
   "cell_type": "code",
   "execution_count": 1032,
   "metadata": {},
   "outputs": [],
   "source": [
    "#standardisation\n",
    "\n",
    "scaler=StandardScaler()\n",
    "x_train=scaler.fit_transform(x_train)\n",
    "x_test=scaler.transform(x_test)"
   ]
  },
  {
   "cell_type": "code",
   "execution_count": 1033,
   "metadata": {},
   "outputs": [
    {
     "name": "stdout",
     "output_type": "stream",
     "text": [
      "Accuracy score on training data  0.891251782503565\n",
      "Accuracy score on test data  0.8919167310974632\n"
     ]
    }
   ],
   "source": [
    "model=LogisticRegression(max_iter=1000)\n",
    "model.fit(x_train,y_train)\n",
    "y_pred=model.predict(x_test)\n",
    "print('Accuracy score on training data ', model.score(x_train,y_train))\n",
    "print('Accuracy score on test data ', model.score(x_test,y_test))\n",
    "\n",
    "\n"
   ]
  },
  {
   "cell_type": "markdown",
   "metadata": {},
   "source": [
    "As we can, both the training and test scores are really close and good. So, the model is doing good. "
   ]
  },
  {
   "cell_type": "code",
   "execution_count": 1034,
   "metadata": {},
   "outputs": [
    {
     "data": {
      "text/plain": [
       "array([[55044,   313],\n",
       "       [ 7096,  6096]])"
      ]
     },
     "execution_count": 1034,
     "metadata": {},
     "output_type": "execute_result"
    }
   ],
   "source": [
    "confusion_mat=confusion_matrix(y_test,y_pred)\n",
    "confusion_mat"
   ]
  },
  {
   "cell_type": "code",
   "execution_count": 1035,
   "metadata": {},
   "outputs": [
    {
     "name": "stdout",
     "output_type": "stream",
     "text": [
      "              precision    recall  f1-score   support\n",
      "\n",
      "           0       0.89      0.99      0.94     55357\n",
      "           1       0.95      0.46      0.62     13192\n",
      "\n",
      "    accuracy                           0.89     68549\n",
      "   macro avg       0.92      0.73      0.78     68549\n",
      "weighted avg       0.90      0.89      0.88     68549\n",
      "\n"
     ]
    }
   ],
   "source": [
    "print(classification_report(y_test,y_pred))"
   ]
  },
  {
   "cell_type": "markdown",
   "metadata": {},
   "source": [
    "#### ROC Curve -\n",
    "\n",
    "An ROC curve (receiver operating characteristic curve) is a graph showing the performance of a classification model at all classification thresholds. This curve plots two parameters:\n",
    "\n",
    "- True Positive Rate\n",
    "- False Positive Rate\n",
    "\n",
    "True Positive Rate (TPR) is a synonym for recall and is therefore defined as follows:\n",
    "\n",
    "- TPR=(TP)/(TP+FN)\n",
    "\n",
    "False Positive Rate (FPR) is defined as follows:\n",
    "\n",
    "- FPR=(FP)/(FP+TN)\n",
    "\n",
    "An ROC curve plots TPR vs. FPR at different classification thresholds. Lowering the classification threshold classifies more items as positive, thus increasing both False Positives and True Positives. \n",
    "\n",
    "#### AUC (Area under the ROC Curve) -\n",
    "\n",
    "AUC stands for \"Area under the ROC Curve.\" That is, AUC measures the entire two-dimensional area underneath the entire ROC curve (think integral calculus) from (0,0) to (1,1).\n",
    "\n",
    "\n",
    "AUC provides an aggregate measure of performance across all possible classification thresholds. "
   ]
  },
  {
   "cell_type": "code",
   "execution_count": 1036,
   "metadata": {},
   "outputs": [
    {
     "data": {
      "text/plain": [
       "0.73"
      ]
     },
     "execution_count": 1036,
     "metadata": {},
     "output_type": "execute_result"
    }
   ],
   "source": [
    "roc_auc=round(roc_auc_score(y_test,model.predict(x_test)),2)\n",
    "roc_auc\n"
   ]
  },
  {
   "cell_type": "code",
   "execution_count": 1037,
   "metadata": {},
   "outputs": [
    {
     "name": "stderr",
     "output_type": "stream",
     "text": [
      "No artists with labels found to put in legend.  Note that artists whose label start with an underscore are ignored when legend() is called with no argument.\n"
     ]
    },
    {
     "name": "stdout",
     "output_type": "stream",
     "text": [
      "roc auc score:  0.73  (Area under the roc_auc_curve)\n"
     ]
    },
    {
     "data": {
      "image/png": "[encoded data removed]",
      "text/plain": [
       "<Figure size 640x480 with 1 Axes>"
      ]
     },
     "metadata": {},
     "output_type": "display_data"
    }
   ],
   "source": [
    "fpr,tpr,thresholds=roc_curve(y_test,model.predict_proba(x_test)[:,1])\n",
    "\n",
    "plt.plot(fpr, tpr)\n",
    "print('roc auc score: ',roc_auc,' (Area under the roc_auc_curve)')\n",
    "\n",
    "plt.xlabel('False Positive Rate'); \n",
    "plt.ylabel('True Positive Rate')\n",
    "plt.title('ROC_AUC_CURVE')\n",
    "plt.legend(); \n",
    "plt.grid()\n",
    "plt.show()\n",
    "\n",
    "\n"
   ]
  },
  {
   "cell_type": "code",
   "execution_count": 1038,
   "metadata": {},
   "outputs": [],
   "source": [
    "precisions, recalls, thresholds = precision_recall_curve(y_test, model.predict_proba(x_test)[:,1])"
   ]
  },
  {
   "cell_type": "code",
   "execution_count": 1039,
   "metadata": {},
   "outputs": [
    {
     "name": "stderr",
     "output_type": "stream",
     "text": [
      "No artists with labels found to put in legend.  Note that artists whose label start with an underscore are ignored when legend() is called with no argument.\n"
     ]
    },
    {
     "name": "stdout",
     "output_type": "stream",
     "text": [
      "score:  0.7808656679359327\n"
     ]
    },
    {
     "data": {
      "image/png": "[encoded data removed]",
      "text/plain": [
       "<Figure size 640x480 with 1 Axes>"
      ]
     },
     "metadata": {},
     "output_type": "display_data"
    }
   ],
   "source": [
    "plt.plot(recalls, precisions)\n",
    "print('score: ',auc(recalls, precisions) )\n",
    "\n",
    "plt.xlabel('recall'); \n",
    "plt.ylabel('precision')\n",
    "plt.legend(); \n",
    "plt.grid()\n",
    "plt.show()\n",
    "\n",
    "\n"
   ]
  },
  {
   "cell_type": "code",
   "execution_count": 1040,
   "metadata": {},
   "outputs": [
    {
     "data": {
      "image/png": "[encoded data removed]",
      "text/plain": [
       "<Figure size 640x480 with 1 Axes>"
      ]
     },
     "metadata": {},
     "output_type": "display_data"
    }
   ],
   "source": [
    "plt.plot(thresholds, precisions[0:thresholds.shape[0]], linestyle='--', label='precision')\n",
    "    # plot recall\n",
    "plt.plot(thresholds, recalls[0:thresholds.shape[0]], label='recalls')\n",
    "\n",
    "start, end = plt.xlim()\n",
    "plt.xticks(np.round(np.arange(start, end, 0.1), 2))\n",
    "\n",
    "plt.xlabel('Threshold Value'); \n",
    "plt.ylabel('Precision and Recall Value')\n",
    "plt.legend(); \n",
    "plt.grid()\n",
    "plt.show()\n"
   ]
  },
  {
   "cell_type": "markdown",
   "metadata": {},
   "source": [
    "### Multicollinearity check using Variance Inflation Factor (VIF) -\n",
    "\n",
    "Multicollinearity occurs when two or more independent variables are highly correlated with one another in a regression model. Multicollinearity can be a problem in a regression model because we would not be able to distinguish between the individual effects of the independent variables on the dependent variable.\n",
    "\n",
    "Multicollinearity can be detected via various methods. One such method is Variance Inflation Factor aka VIF.\n",
    "In VIF method, we pick each independent feature and regress it against all of the other independent features.\n",
    "VIF score of an independent variable represents how well the variable is explained by other independent variables.\n",
    "\n",
    "VIF = 1/1-R2"
   ]
  },
  {
   "cell_type": "code",
   "execution_count": 1041,
   "metadata": {},
   "outputs": [
    {
     "data": {
      "text/html": [
       "<div>\n",
       "<style scoped>\n",
       "    .dataframe tbody tr th:only-of-type {\n",
       "        vertical-align: middle;\n",
       "    }\n",
       "\n",
       "    .dataframe tbody tr th {\n",
       "        vertical-align: top;\n",
       "    }\n",
       "\n",
       "    .dataframe thead th {\n",
       "        text-align: right;\n",
       "    }\n",
       "</style>\n",
       "<table border=\"1\" class=\"dataframe\">\n",
       "  <thead>\n",
       "    <tr style=\"text-align: right;\">\n",
       "      <th></th>\n",
       "      <th>feature</th>\n",
       "      <th>VIF</th>\n",
       "    </tr>\n",
       "  </thead>\n",
       "  <tbody>\n",
       "    <tr>\n",
       "      <th>2</th>\n",
       "      <td>int_rate</td>\n",
       "      <td>102.227915</td>\n",
       "    </tr>\n",
       "    <tr>\n",
       "      <th>24</th>\n",
       "      <td>purpose_debt_consolidation</td>\n",
       "      <td>27.559249</td>\n",
       "    </tr>\n",
       "    <tr>\n",
       "      <th>1</th>\n",
       "      <td>term</td>\n",
       "      <td>24.665352</td>\n",
       "    </tr>\n",
       "    <tr>\n",
       "      <th>5</th>\n",
       "      <td>open_acc</td>\n",
       "      <td>13.799177</td>\n",
       "    </tr>\n",
       "    <tr>\n",
       "      <th>9</th>\n",
       "      <td>total_acc</td>\n",
       "      <td>12.364899</td>\n",
       "    </tr>\n",
       "  </tbody>\n",
       "</table>\n",
       "</div>"
      ],
      "text/plain": [
       "                       feature         VIF\n",
       "2                     int_rate  102.227915\n",
       "24  purpose_debt_consolidation   27.559249\n",
       "1                         term   24.665352\n",
       "5                     open_acc   13.799177\n",
       "9                    total_acc   12.364899"
      ]
     },
     "execution_count": 1041,
     "metadata": {},
     "output_type": "execute_result"
    }
   ],
   "source": [
    "def calc_VIF(x):\n",
    "    VIF             = pd.DataFrame()\n",
    "    VIF['feature']  = x.columns\n",
    "    VIF['VIF']      = [variance_inflation_factor(x.values, i) for i in range(x.shape[1])]\n",
    "    return VIF\n",
    "    # take a look\n",
    "calc_VIF(x).sort_values(by='VIF',ascending=False)[:5]"
   ]
  },
  {
   "cell_type": "markdown",
   "metadata": {},
   "source": [
    "VIF value greater than 10 is considered very bad and problematic. So,let's drop all the columns with VIF>10."
   ]
  },
  {
   "cell_type": "code",
   "execution_count": 1042,
   "metadata": {},
   "outputs": [
    {
     "data": {
      "text/html": [
       "<div>\n",
       "<style scoped>\n",
       "    .dataframe tbody tr th:only-of-type {\n",
       "        vertical-align: middle;\n",
       "    }\n",
       "\n",
       "    .dataframe tbody tr th {\n",
       "        vertical-align: top;\n",
       "    }\n",
       "\n",
       "    .dataframe thead th {\n",
       "        text-align: right;\n",
       "    }\n",
       "</style>\n",
       "<table border=\"1\" class=\"dataframe\">\n",
       "  <thead>\n",
       "    <tr style=\"text-align: right;\">\n",
       "      <th></th>\n",
       "      <th>feature</th>\n",
       "      <th>VIF</th>\n",
       "    </tr>\n",
       "  </thead>\n",
       "  <tbody>\n",
       "    <tr>\n",
       "      <th>1</th>\n",
       "      <td>term</td>\n",
       "      <td>23.647727</td>\n",
       "    </tr>\n",
       "    <tr>\n",
       "      <th>23</th>\n",
       "      <td>purpose_debt_consolidation</td>\n",
       "      <td>22.344135</td>\n",
       "    </tr>\n",
       "    <tr>\n",
       "      <th>4</th>\n",
       "      <td>open_acc</td>\n",
       "      <td>13.692322</td>\n",
       "    </tr>\n",
       "    <tr>\n",
       "      <th>8</th>\n",
       "      <td>total_acc</td>\n",
       "      <td>12.364867</td>\n",
       "    </tr>\n",
       "    <tr>\n",
       "      <th>7</th>\n",
       "      <td>revol_util</td>\n",
       "      <td>9.076963</td>\n",
       "    </tr>\n",
       "  </tbody>\n",
       "</table>\n",
       "</div>"
      ],
      "text/plain": [
       "                       feature        VIF\n",
       "1                         term  23.647727\n",
       "23  purpose_debt_consolidation  22.344135\n",
       "4                     open_acc  13.692322\n",
       "8                    total_acc  12.364867\n",
       "7                   revol_util   9.076963"
      ]
     },
     "execution_count": 1042,
     "metadata": {},
     "output_type": "execute_result"
    }
   ],
   "source": [
    "x.drop(columns=['int_rate'],axis=1,inplace=True)\n",
    "calc_VIF(x).sort_values(by='VIF',ascending=False)[:5]"
   ]
  },
  {
   "cell_type": "code",
   "execution_count": 1043,
   "metadata": {},
   "outputs": [
    {
     "data": {
      "text/html": [
       "<div>\n",
       "<style scoped>\n",
       "    .dataframe tbody tr th:only-of-type {\n",
       "        vertical-align: middle;\n",
       "    }\n",
       "\n",
       "    .dataframe tbody tr th {\n",
       "        vertical-align: top;\n",
       "    }\n",
       "\n",
       "    .dataframe thead th {\n",
       "        text-align: right;\n",
       "    }\n",
       "</style>\n",
       "<table border=\"1\" class=\"dataframe\">\n",
       "  <thead>\n",
       "    <tr style=\"text-align: right;\">\n",
       "      <th></th>\n",
       "      <th>feature</th>\n",
       "      <th>VIF</th>\n",
       "    </tr>\n",
       "  </thead>\n",
       "  <tbody>\n",
       "    <tr>\n",
       "      <th>22</th>\n",
       "      <td>purpose_debt_consolidation</td>\n",
       "      <td>18.597504</td>\n",
       "    </tr>\n",
       "    <tr>\n",
       "      <th>3</th>\n",
       "      <td>open_acc</td>\n",
       "      <td>13.691734</td>\n",
       "    </tr>\n",
       "    <tr>\n",
       "      <th>7</th>\n",
       "      <td>total_acc</td>\n",
       "      <td>12.334185</td>\n",
       "    </tr>\n",
       "    <tr>\n",
       "      <th>6</th>\n",
       "      <td>revol_util</td>\n",
       "      <td>9.062235</td>\n",
       "    </tr>\n",
       "    <tr>\n",
       "      <th>2</th>\n",
       "      <td>dti</td>\n",
       "      <td>8.023971</td>\n",
       "    </tr>\n",
       "  </tbody>\n",
       "</table>\n",
       "</div>"
      ],
      "text/plain": [
       "                       feature        VIF\n",
       "22  purpose_debt_consolidation  18.597504\n",
       "3                     open_acc  13.691734\n",
       "7                    total_acc  12.334185\n",
       "6                   revol_util   9.062235\n",
       "2                          dti   8.023971"
      ]
     },
     "execution_count": 1043,
     "metadata": {},
     "output_type": "execute_result"
    }
   ],
   "source": [
    "x.drop(columns=['term'],axis=1,inplace=True)\n",
    "calc_VIF(x).sort_values(by='VIF',ascending=False)[:5]"
   ]
  },
  {
   "cell_type": "code",
   "execution_count": 1044,
   "metadata": {},
   "outputs": [
    {
     "data": {
      "text/html": [
       "<div>\n",
       "<style scoped>\n",
       "    .dataframe tbody tr th:only-of-type {\n",
       "        vertical-align: middle;\n",
       "    }\n",
       "\n",
       "    .dataframe tbody tr th {\n",
       "        vertical-align: top;\n",
       "    }\n",
       "\n",
       "    .dataframe thead th {\n",
       "        text-align: right;\n",
       "    }\n",
       "</style>\n",
       "<table border=\"1\" class=\"dataframe\">\n",
       "  <thead>\n",
       "    <tr style=\"text-align: right;\">\n",
       "      <th></th>\n",
       "      <th>feature</th>\n",
       "      <th>VIF</th>\n",
       "    </tr>\n",
       "  </thead>\n",
       "  <tbody>\n",
       "    <tr>\n",
       "      <th>3</th>\n",
       "      <td>open_acc</td>\n",
       "      <td>13.144228</td>\n",
       "    </tr>\n",
       "    <tr>\n",
       "      <th>7</th>\n",
       "      <td>total_acc</td>\n",
       "      <td>12.308888</td>\n",
       "    </tr>\n",
       "    <tr>\n",
       "      <th>6</th>\n",
       "      <td>revol_util</td>\n",
       "      <td>8.348598</td>\n",
       "    </tr>\n",
       "    <tr>\n",
       "      <th>1</th>\n",
       "      <td>annual_inc</td>\n",
       "      <td>7.669328</td>\n",
       "    </tr>\n",
       "    <tr>\n",
       "      <th>2</th>\n",
       "      <td>dti</td>\n",
       "      <td>7.616281</td>\n",
       "    </tr>\n",
       "  </tbody>\n",
       "</table>\n",
       "</div>"
      ],
      "text/plain": [
       "      feature        VIF\n",
       "3    open_acc  13.144228\n",
       "7   total_acc  12.308888\n",
       "6  revol_util   8.348598\n",
       "1  annual_inc   7.669328\n",
       "2         dti   7.616281"
      ]
     },
     "execution_count": 1044,
     "metadata": {},
     "output_type": "execute_result"
    }
   ],
   "source": [
    "x.drop(columns=['purpose_debt_consolidation'],axis=1,inplace=True)\n",
    "calc_VIF(x).sort_values(by='VIF',ascending=False)[:5]"
   ]
  },
  {
   "cell_type": "code",
   "execution_count": 1045,
   "metadata": {},
   "outputs": [
    {
     "data": {
      "text/html": [
       "<div>\n",
       "<style scoped>\n",
       "    .dataframe tbody tr th:only-of-type {\n",
       "        vertical-align: middle;\n",
       "    }\n",
       "\n",
       "    .dataframe tbody tr th {\n",
       "        vertical-align: top;\n",
       "    }\n",
       "\n",
       "    .dataframe thead th {\n",
       "        text-align: right;\n",
       "    }\n",
       "</style>\n",
       "<table border=\"1\" class=\"dataframe\">\n",
       "  <thead>\n",
       "    <tr style=\"text-align: right;\">\n",
       "      <th></th>\n",
       "      <th>feature</th>\n",
       "      <th>VIF</th>\n",
       "    </tr>\n",
       "  </thead>\n",
       "  <tbody>\n",
       "    <tr>\n",
       "      <th>5</th>\n",
       "      <td>revol_util</td>\n",
       "      <td>8.041756</td>\n",
       "    </tr>\n",
       "    <tr>\n",
       "      <th>6</th>\n",
       "      <td>total_acc</td>\n",
       "      <td>7.892030</td>\n",
       "    </tr>\n",
       "    <tr>\n",
       "      <th>1</th>\n",
       "      <td>annual_inc</td>\n",
       "      <td>7.567916</td>\n",
       "    </tr>\n",
       "    <tr>\n",
       "      <th>2</th>\n",
       "      <td>dti</td>\n",
       "      <td>7.068421</td>\n",
       "    </tr>\n",
       "    <tr>\n",
       "      <th>0</th>\n",
       "      <td>loan_amnt</td>\n",
       "      <td>6.714966</td>\n",
       "    </tr>\n",
       "  </tbody>\n",
       "</table>\n",
       "</div>"
      ],
      "text/plain": [
       "      feature       VIF\n",
       "5  revol_util  8.041756\n",
       "6   total_acc  7.892030\n",
       "1  annual_inc  7.567916\n",
       "2         dti  7.068421\n",
       "0   loan_amnt  6.714966"
      ]
     },
     "execution_count": 1045,
     "metadata": {},
     "output_type": "execute_result"
    }
   ],
   "source": [
    "x.drop(columns=['open_acc'],axis=1,inplace=True)\n",
    "calc_VIF(x).sort_values(by='VIF',ascending=False)[:5]"
   ]
  },
  {
   "cell_type": "markdown",
   "metadata": {},
   "source": [
    "We are good now!!\n"
   ]
  },
  {
   "cell_type": "code",
   "execution_count": 1047,
   "metadata": {},
   "outputs": [
    {
     "name": "stdout",
     "output_type": "stream",
     "text": [
      "0.8908214287016809\n",
      "0.8912019139593576\n"
     ]
    }
   ],
   "source": [
    "x_train, x_test, y_train, y_test= train_test_split(x,y,test_size=0.20,random_state=20)\n",
    "\n",
    "x_train=scaler.fit_transform(x_train)\n",
    "x_test=scaler.transform(x_test)\n",
    "\n",
    "model=LogisticRegression(max_iter=1000)\n",
    "model.fit(x_train,y_train)\n",
    "print(model.score(x_train,y_train))\n",
    "print(model.score(x_test,y_test))"
   ]
  },
  {
   "cell_type": "markdown",
   "metadata": {},
   "source": [
    "Model is actually doing slightly better on the test data"
   ]
  },
  {
   "cell_type": "code",
   "execution_count": 1053,
   "metadata": {},
   "outputs": [
    {
     "name": "stdout",
     "output_type": "stream",
     "text": [
      "Cross Validation accuracy: 0.891\n"
     ]
    }
   ],
   "source": [
    "x = scaler.fit_transform(x)\n",
    "\n",
    "kfold = KFold(n_splits=5)\n",
    "accuracy = np.mean(cross_val_score(model, x, y, cv=kfold, scoring='accuracy', n_jobs=-1))\n",
    "print(\"Cross Validation accuracy: {:.3f}\".format(accuracy))"
   ]
  },
  {
   "cell_type": "code",
   "execution_count": 1051,
   "metadata": {},
   "outputs": [
    {
     "name": "stdout",
     "output_type": "stream",
     "text": [
      "              precision    recall  f1-score   support\n",
      "\n",
      "           0       0.88      1.00      0.94     55357\n",
      "           1       0.96      0.45      0.62     13192\n",
      "\n",
      "    accuracy                           0.89     68549\n",
      "   macro avg       0.92      0.72      0.78     68549\n",
      "weighted avg       0.90      0.89      0.87     68549\n",
      "\n"
     ]
    }
   ],
   "source": [
    "print(classification_report(y_test,model.predict(x_test)))"
   ]
  },
  {
   "cell_type": "code",
   "execution_count": null,
   "metadata": {},
   "outputs": [],
   "source": []
  }
 ],
 "metadata": {
  "kernelspec": {
   "display_name": "base",
   "language": "python",
   "name": "python3"
  },
  "language_info": {
   "codemirror_mode": {
    "name": "ipython",
    "version": 3
   },
   "file_extension": ".py",
   "mimetype": "text/x-python",
   "name": "python",
   "nbconvert_exporter": "python",
   "pygments_lexer": "ipython3",
   "version": "3.11.5"
  }
 },
 "nbformat": 4,
 "nbformat_minor": 2
}
